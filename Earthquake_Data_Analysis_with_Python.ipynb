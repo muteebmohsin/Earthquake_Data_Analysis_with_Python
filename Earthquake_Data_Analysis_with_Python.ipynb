{
 "cells": [
  {
   "cell_type": "code",
   "execution_count": 1,
   "metadata": {
    "colab": {
     "base_uri": "https://localhost:8080/"
    },
    "id": "S4yaOBYcA8eq",
    "outputId": "b284703e-ee5f-4fdf-963b-b35b07ce1a39"
   },
   "outputs": [
    {
     "name": "stdout",
     "output_type": "stream",
     "text": [
      "Defaulting to user installation because normal site-packages is not writeable\n",
      "Collecting reverse_geocoder\n",
      "  Downloading reverse_geocoder-1.5.1.tar.gz (2.2 MB)\n",
      "     ---------------------------------------- 2.2/2.2 MB 832.3 kB/s eta 0:00:00\n",
      "  Preparing metadata (setup.py): started\n",
      "  Preparing metadata (setup.py): finished with status 'done'\n",
      "Requirement already satisfied: numpy>=1.11.0 in c:\\programdata\\anaconda3\\lib\\site-packages (from reverse_geocoder) (1.23.5)\n",
      "Requirement already satisfied: scipy>=0.17.1 in c:\\programdata\\anaconda3\\lib\\site-packages (from reverse_geocoder) (1.10.0)\n",
      "Building wheels for collected packages: reverse_geocoder\n",
      "  Building wheel for reverse_geocoder (setup.py): started\n",
      "  Building wheel for reverse_geocoder (setup.py): finished with status 'done'\n",
      "  Created wheel for reverse_geocoder: filename=reverse_geocoder-1.5.1-py3-none-any.whl size=2268077 sha256=aa988ddc981ae5020f3fdeb246cd0b0c2382650a99e8b91dc3489340c6804ff3\n",
      "  Stored in directory: c:\\users\\user\\appdata\\local\\pip\\cache\\wheels\\1c\\07\\35\\8bc99c070537c835a0696e47609f6270f174cb70b86b65c7d8\n",
      "Successfully built reverse_geocoder\n",
      "Installing collected packages: reverse_geocoder\n",
      "Successfully installed reverse_geocoder-1.5.1\n",
      "Note: you may need to restart the kernel to use updated packages.\n"
     ]
    }
   ],
   "source": [
    "pip install reverse_geocoder"
   ]
  },
  {
   "cell_type": "code",
   "execution_count": 1,
   "metadata": {
    "id": "AEYAjPxwAZDY"
   },
   "outputs": [],
   "source": [
    "#Libraries \n",
    "import pandas as pd\n",
    "import reverse_geocoder as rg\n",
    "import warnings\n",
    "warnings.filterwarnings(\"ignore\")"
   ]
  },
  {
   "cell_type": "code",
   "execution_count": 24,
   "metadata": {
    "colab": {
     "base_uri": "https://localhost:8080/",
     "height": 334
    },
    "id": "uxgjvp88Aib6",
    "outputId": "9afda17b-82fb-4c41-9a8a-f40143db834e"
   },
   "outputs": [
    {
     "data": {
      "text/html": [
       "<div>\n",
       "<style scoped>\n",
       "    .dataframe tbody tr th:only-of-type {\n",
       "        vertical-align: middle;\n",
       "    }\n",
       "\n",
       "    .dataframe tbody tr th {\n",
       "        vertical-align: top;\n",
       "    }\n",
       "\n",
       "    .dataframe thead th {\n",
       "        text-align: right;\n",
       "    }\n",
       "</style>\n",
       "<table border=\"1\" class=\"dataframe\">\n",
       "  <thead>\n",
       "    <tr style=\"text-align: right;\">\n",
       "      <th></th>\n",
       "      <th>Year</th>\n",
       "      <th>Month</th>\n",
       "      <th>Day</th>\n",
       "      <th>Time</th>\n",
       "      <th>Lat</th>\n",
       "      <th>Lon</th>\n",
       "      <th>Depth</th>\n",
       "      <th>Mag</th>\n",
       "      <th>Region</th>\n",
       "      <th>Timestamp</th>\n",
       "    </tr>\n",
       "  </thead>\n",
       "  <tbody>\n",
       "    <tr>\n",
       "      <th>0</th>\n",
       "      <td>2022</td>\n",
       "      <td>4</td>\n",
       "      <td>11</td>\n",
       "      <td>1:41:41</td>\n",
       "      <td>33.2832</td>\n",
       "      <td>70.5607</td>\n",
       "      <td>41.2</td>\n",
       "      <td>4.8</td>\n",
       "      <td>PAKISTAN</td>\n",
       "      <td>1649641301</td>\n",
       "    </tr>\n",
       "    <tr>\n",
       "      <th>1</th>\n",
       "      <td>2022</td>\n",
       "      <td>3</td>\n",
       "      <td>18</td>\n",
       "      <td>2:54:11</td>\n",
       "      <td>30.1460</td>\n",
       "      <td>72.5955</td>\n",
       "      <td>15.3</td>\n",
       "      <td>4.2</td>\n",
       "      <td>PAKISTAN</td>\n",
       "      <td>1647572051</td>\n",
       "    </tr>\n",
       "    <tr>\n",
       "      <th>2</th>\n",
       "      <td>2022</td>\n",
       "      <td>7</td>\n",
       "      <td>31</td>\n",
       "      <td>13:42:13</td>\n",
       "      <td>25.1527</td>\n",
       "      <td>63.5489</td>\n",
       "      <td>10.0</td>\n",
       "      <td>5.6</td>\n",
       "      <td>SOUTHWESTERN PAKISTAN</td>\n",
       "      <td>1659274933</td>\n",
       "    </tr>\n",
       "    <tr>\n",
       "      <th>3</th>\n",
       "      <td>2022</td>\n",
       "      <td>5</td>\n",
       "      <td>6</td>\n",
       "      <td>6:21:18</td>\n",
       "      <td>26.9542</td>\n",
       "      <td>66.2725</td>\n",
       "      <td>10.0</td>\n",
       "      <td>5.2</td>\n",
       "      <td>PAKISTAN</td>\n",
       "      <td>1651818078</td>\n",
       "    </tr>\n",
       "    <tr>\n",
       "      <th>4</th>\n",
       "      <td>2022</td>\n",
       "      <td>7</td>\n",
       "      <td>31</td>\n",
       "      <td>13:52:16</td>\n",
       "      <td>25.1473</td>\n",
       "      <td>63.4376</td>\n",
       "      <td>10.0</td>\n",
       "      <td>5.1</td>\n",
       "      <td>SOUTHWESTERN PAKISTAN</td>\n",
       "      <td>1659275536</td>\n",
       "    </tr>\n",
       "  </tbody>\n",
       "</table>\n",
       "</div>"
      ],
      "text/plain": [
       "   Year  Month  Day      Time      Lat      Lon  Depth  Mag  \\\n",
       "0  2022      4   11   1:41:41  33.2832  70.5607   41.2  4.8   \n",
       "1  2022      3   18   2:54:11  30.1460  72.5955   15.3  4.2   \n",
       "2  2022      7   31  13:42:13  25.1527  63.5489   10.0  5.6   \n",
       "3  2022      5    6   6:21:18  26.9542  66.2725   10.0  5.2   \n",
       "4  2022      7   31  13:52:16  25.1473  63.4376   10.0  5.1   \n",
       "\n",
       "                  Region   Timestamp  \n",
       "0               PAKISTAN  1649641301  \n",
       "1               PAKISTAN  1647572051  \n",
       "2  SOUTHWESTERN PAKISTAN  1659274933  \n",
       "3               PAKISTAN  1651818078  \n",
       "4  SOUTHWESTERN PAKISTAN  1659275536  "
      ]
     },
     "execution_count": 24,
     "metadata": {},
     "output_type": "execute_result"
    }
   ],
   "source": [
    "#Reading file\n",
    "df = pd.read_csv(r'C:\\Users\\user\\downloads\\PK_eq.csv')\n",
    "df.head()"
   ]
  },
  {
   "cell_type": "markdown",
   "metadata": {
    "id": "YafZl6c3Edl0"
   },
   "source": [
    "# Basic Preprocesssing"
   ]
  },
  {
   "cell_type": "code",
   "execution_count": 25,
   "metadata": {
    "colab": {
     "base_uri": "https://localhost:8080/"
    },
    "id": "nAT_PT0RAm09",
    "outputId": "83b6b381-d6a2-4200-baa1-ad1fc9834f3a"
   },
   "outputs": [
    {
     "data": {
      "text/plain": [
       "Year         0\n",
       "Month        0\n",
       "Day          0\n",
       "Time         0\n",
       "Lat          0\n",
       "Lon          0\n",
       "Depth        0\n",
       "Mag          0\n",
       "Region       0\n",
       "Timestamp    0\n",
       "dtype: int64"
      ]
     },
     "execution_count": 25,
     "metadata": {},
     "output_type": "execute_result"
    }
   ],
   "source": [
    "# Checking for null values\n",
    "df.isna().sum()"
   ]
  },
  {
   "cell_type": "code",
   "execution_count": null,
   "metadata": {
    "id": "-YccUSW_Ap1o"
   },
   "outputs": [],
   "source": [
    "#Dropping columns not important for analysis\n",
    "df.drop(['Magnitude Type', 'Magnitude Error', 'Magnitude Seismic Stations', 'Azimuthal Gap', 'Horizontal Distance',\n",
    "         'Horizontal Error', 'Root Mean Square','Depth Error', 'Depth Seismic Stations', 'Source', 'Location Source', \n",
    "         'Magnitude Source', 'Status'], inplace = True, axis =1)"
   ]
  },
  {
   "cell_type": "code",
   "execution_count": 27,
   "metadata": {
    "colab": {
     "base_uri": "https://localhost:8080/",
     "height": 300
    },
    "id": "QhWpbtWBAsvb",
    "outputId": "fd9fa068-4c6e-45b2-eb3b-73061a5a00f5"
   },
   "outputs": [
    {
     "data": {
      "text/html": [
       "<div>\n",
       "<style scoped>\n",
       "    .dataframe tbody tr th:only-of-type {\n",
       "        vertical-align: middle;\n",
       "    }\n",
       "\n",
       "    .dataframe tbody tr th {\n",
       "        vertical-align: top;\n",
       "    }\n",
       "\n",
       "    .dataframe thead th {\n",
       "        text-align: right;\n",
       "    }\n",
       "</style>\n",
       "<table border=\"1\" class=\"dataframe\">\n",
       "  <thead>\n",
       "    <tr style=\"text-align: right;\">\n",
       "      <th></th>\n",
       "      <th>Year</th>\n",
       "      <th>Month</th>\n",
       "      <th>Day</th>\n",
       "      <th>Lat</th>\n",
       "      <th>Lon</th>\n",
       "      <th>Depth</th>\n",
       "      <th>Mag</th>\n",
       "      <th>Timestamp</th>\n",
       "    </tr>\n",
       "  </thead>\n",
       "  <tbody>\n",
       "    <tr>\n",
       "      <th>count</th>\n",
       "      <td>4546.000000</td>\n",
       "      <td>4546.000000</td>\n",
       "      <td>4546.000000</td>\n",
       "      <td>4546.000000</td>\n",
       "      <td>4546.000000</td>\n",
       "      <td>4546.000000</td>\n",
       "      <td>4546.000000</td>\n",
       "      <td>4.546000e+03</td>\n",
       "    </tr>\n",
       "    <tr>\n",
       "      <th>mean</th>\n",
       "      <td>2002.873295</td>\n",
       "      <td>7.116146</td>\n",
       "      <td>15.574131</td>\n",
       "      <td>31.482930</td>\n",
       "      <td>70.346297</td>\n",
       "      <td>25.202574</td>\n",
       "      <td>3.996854</td>\n",
       "      <td>1.054725e+09</td>\n",
       "    </tr>\n",
       "    <tr>\n",
       "      <th>std</th>\n",
       "      <td>10.029188</td>\n",
       "      <td>3.559851</td>\n",
       "      <td>8.758331</td>\n",
       "      <td>3.077798</td>\n",
       "      <td>3.283553</td>\n",
       "      <td>28.849384</td>\n",
       "      <td>0.625583</td>\n",
       "      <td>3.178132e+08</td>\n",
       "    </tr>\n",
       "    <tr>\n",
       "      <th>min</th>\n",
       "      <td>1970.000000</td>\n",
       "      <td>1.000000</td>\n",
       "      <td>1.000000</td>\n",
       "      <td>23.498400</td>\n",
       "      <td>61.091100</td>\n",
       "      <td>0.000000</td>\n",
       "      <td>2.100000</td>\n",
       "      <td>2.471259e+07</td>\n",
       "    </tr>\n",
       "    <tr>\n",
       "      <th>25%</th>\n",
       "      <td>1998.000000</td>\n",
       "      <td>4.000000</td>\n",
       "      <td>8.000000</td>\n",
       "      <td>29.610800</td>\n",
       "      <td>67.760400</td>\n",
       "      <td>10.000000</td>\n",
       "      <td>3.600000</td>\n",
       "      <td>8.969340e+08</td>\n",
       "    </tr>\n",
       "    <tr>\n",
       "      <th>50%</th>\n",
       "      <td>2005.000000</td>\n",
       "      <td>8.000000</td>\n",
       "      <td>15.000000</td>\n",
       "      <td>31.469400</td>\n",
       "      <td>70.619850</td>\n",
       "      <td>21.000000</td>\n",
       "      <td>3.900000</td>\n",
       "      <td>1.129399e+09</td>\n",
       "    </tr>\n",
       "    <tr>\n",
       "      <th>75%</th>\n",
       "      <td>2008.000000</td>\n",
       "      <td>10.000000</td>\n",
       "      <td>24.000000</td>\n",
       "      <td>34.581300</td>\n",
       "      <td>73.253425</td>\n",
       "      <td>33.000000</td>\n",
       "      <td>4.400000</td>\n",
       "      <td>1.226745e+09</td>\n",
       "    </tr>\n",
       "    <tr>\n",
       "      <th>max</th>\n",
       "      <td>2022.000000</td>\n",
       "      <td>12.000000</td>\n",
       "      <td>31.000000</td>\n",
       "      <td>35.123900</td>\n",
       "      <td>75.373700</td>\n",
       "      <td>831.200000</td>\n",
       "      <td>7.800000</td>\n",
       "      <td>1.666717e+09</td>\n",
       "    </tr>\n",
       "  </tbody>\n",
       "</table>\n",
       "</div>"
      ],
      "text/plain": [
       "              Year        Month          Day          Lat          Lon  \\\n",
       "count  4546.000000  4546.000000  4546.000000  4546.000000  4546.000000   \n",
       "mean   2002.873295     7.116146    15.574131    31.482930    70.346297   \n",
       "std      10.029188     3.559851     8.758331     3.077798     3.283553   \n",
       "min    1970.000000     1.000000     1.000000    23.498400    61.091100   \n",
       "25%    1998.000000     4.000000     8.000000    29.610800    67.760400   \n",
       "50%    2005.000000     8.000000    15.000000    31.469400    70.619850   \n",
       "75%    2008.000000    10.000000    24.000000    34.581300    73.253425   \n",
       "max    2022.000000    12.000000    31.000000    35.123900    75.373700   \n",
       "\n",
       "             Depth          Mag     Timestamp  \n",
       "count  4546.000000  4546.000000  4.546000e+03  \n",
       "mean     25.202574     3.996854  1.054725e+09  \n",
       "std      28.849384     0.625583  3.178132e+08  \n",
       "min       0.000000     2.100000  2.471259e+07  \n",
       "25%      10.000000     3.600000  8.969340e+08  \n",
       "50%      21.000000     3.900000  1.129399e+09  \n",
       "75%      33.000000     4.400000  1.226745e+09  \n",
       "max     831.200000     7.800000  1.666717e+09  "
      ]
     },
     "execution_count": 27,
     "metadata": {},
     "output_type": "execute_result"
    }
   ],
   "source": [
    "#Description of the dataset\n",
    "df.describe()"
   ]
  },
  {
   "cell_type": "code",
   "execution_count": 20,
   "metadata": {
    "colab": {
     "base_uri": "https://localhost:8080/"
    },
    "id": "FnFF2mYiAvac",
    "outputId": "6f7b4b11-7ac0-4477-82e3-d8e2e6399a5e"
   },
   "outputs": [
    {
     "data": {
      "text/plain": [
       "3.6    340\n",
       "3.7    337\n",
       "3.8    326\n",
       "3.5    316\n",
       "3.9    264\n",
       "4.0    240\n",
       "3.4    230\n",
       "4.1    218\n",
       "4.4    210\n",
       "4.2    203\n",
       "4.5    203\n",
       "4.3    203\n",
       "4.7    186\n",
       "4.6    182\n",
       "3.3    162\n",
       "3.2    125\n",
       "4.8    123\n",
       "4.9    114\n",
       "3.1     80\n",
       "5.0     74\n",
       "3.0     56\n",
       "5.2     45\n",
       "5.1     43\n",
       "2.8     31\n",
       "2.9     30\n",
       "5.3     30\n",
       "2.7     26\n",
       "5.4     25\n",
       "2.5     19\n",
       "2.6     17\n",
       "5.6     17\n",
       "5.5     15\n",
       "5.7     12\n",
       "2.4     10\n",
       "5.8      8\n",
       "5.9      6\n",
       "2.3      3\n",
       "6.4      3\n",
       "6.0      3\n",
       "6.3      2\n",
       "2.1      1\n",
       "6.2      1\n",
       "7.0      1\n",
       "7.8      1\n",
       "7.6      1\n",
       "2.2      1\n",
       "7.2      1\n",
       "6.8      1\n",
       "6.1      1\n",
       "Name: Mag, dtype: int64"
      ]
     },
     "execution_count": 20,
     "metadata": {},
     "output_type": "execute_result"
    }
   ],
   "source": [
    "#Checking for different categorical values of 'Type' column\n",
    "df['Mag'].value_counts()"
   ]
  },
  {
   "cell_type": "code",
   "execution_count": 33,
   "metadata": {
    "id": "FIqm-61FAwoD"
   },
   "outputs": [],
   "source": [
    "#Deleting all other entries except 'Earthquake'\n",
    "filt = (df['Region'] == 'EASTERN KASHMIR')\n",
    "df = df[filt]\n",
    "df.drop(['Region'], axis =1, inplace = True)\n",
    "df.reset_index(drop = True, inplace =True)"
   ]
  },
  {
   "cell_type": "code",
   "execution_count": 34,
   "metadata": {},
   "outputs": [],
   "source": [
    "df.to_csv(r'C:\\Users\\user\\downloads\\EK_eq.csv')"
   ]
  },
  {
   "cell_type": "markdown",
   "metadata": {
    "id": "EHehojYfEhXW"
   },
   "source": [
    "# Reverse Geocoding"
   ]
  },
  {
   "cell_type": "code",
   "execution_count": 35,
   "metadata": {
    "id": "6GaVgYZMA01L"
   },
   "outputs": [],
   "source": [
    "#Python3 program for reverse geocoding\n",
    "def convert_to_country(df):\n",
    "  for index, row in df.iterrows():\n",
    "      coordinates = (row['Lat'], row['Lon'])\n",
    "      result = rg.search(coordinates)  \n",
    "      df.at[index, 'Pakistan'] = result[0]['PK'] # Using only cc (Country code) \n",
    "  return df   "
   ]
  },
  {
   "cell_type": "code",
   "execution_count": null,
   "metadata": {
    "colab": {
     "base_uri": "https://localhost:8080/",
     "height": 206
    },
    "id": "BK4gN2Z3JW-A",
    "outputId": "2da713af-58b8-45e7-c571-86b952d235ab"
   },
   "outputs": [
    {
     "data": {
      "text/html": [
       "\n",
       "  <div id=\"df-b0fb919e-d92f-4443-8423-13b6c7b2feba\">\n",
       "    <div class=\"colab-df-container\">\n",
       "      <div>\n",
       "<style scoped>\n",
       "    .dataframe tbody tr th:only-of-type {\n",
       "        vertical-align: middle;\n",
       "    }\n",
       "\n",
       "    .dataframe tbody tr th {\n",
       "        vertical-align: top;\n",
       "    }\n",
       "\n",
       "    .dataframe thead th {\n",
       "        text-align: right;\n",
       "    }\n",
       "</style>\n",
       "<table border=\"1\" class=\"dataframe\">\n",
       "  <thead>\n",
       "    <tr style=\"text-align: right;\">\n",
       "      <th></th>\n",
       "      <th>Name</th>\n",
       "      <th>Code</th>\n",
       "    </tr>\n",
       "  </thead>\n",
       "  <tbody>\n",
       "    <tr>\n",
       "      <th>0</th>\n",
       "      <td>Afghanistan</td>\n",
       "      <td>AF</td>\n",
       "    </tr>\n",
       "    <tr>\n",
       "      <th>1</th>\n",
       "      <td>Åland Islands</td>\n",
       "      <td>AX</td>\n",
       "    </tr>\n",
       "    <tr>\n",
       "      <th>2</th>\n",
       "      <td>Albania</td>\n",
       "      <td>AL</td>\n",
       "    </tr>\n",
       "    <tr>\n",
       "      <th>3</th>\n",
       "      <td>Algeria</td>\n",
       "      <td>DZ</td>\n",
       "    </tr>\n",
       "    <tr>\n",
       "      <th>4</th>\n",
       "      <td>American Samoa</td>\n",
       "      <td>AS</td>\n",
       "    </tr>\n",
       "  </tbody>\n",
       "</table>\n",
       "</div>\n",
       "      <button class=\"colab-df-convert\" onclick=\"convertToInteractive('df-b0fb919e-d92f-4443-8423-13b6c7b2feba')\"\n",
       "              title=\"Convert this dataframe to an interactive table.\"\n",
       "              style=\"display:none;\">\n",
       "        \n",
       "  <svg xmlns=\"http://www.w3.org/2000/svg\" height=\"24px\"viewBox=\"0 0 24 24\"\n",
       "       width=\"24px\">\n",
       "    <path d=\"M0 0h24v24H0V0z\" fill=\"none\"/>\n",
       "    <path d=\"M18.56 5.44l.94 2.06.94-2.06 2.06-.94-2.06-.94-.94-2.06-.94 2.06-2.06.94zm-11 1L8.5 8.5l.94-2.06 2.06-.94-2.06-.94L8.5 2.5l-.94 2.06-2.06.94zm10 10l.94 2.06.94-2.06 2.06-.94-2.06-.94-.94-2.06-.94 2.06-2.06.94z\"/><path d=\"M17.41 7.96l-1.37-1.37c-.4-.4-.92-.59-1.43-.59-.52 0-1.04.2-1.43.59L10.3 9.45l-7.72 7.72c-.78.78-.78 2.05 0 2.83L4 21.41c.39.39.9.59 1.41.59.51 0 1.02-.2 1.41-.59l7.78-7.78 2.81-2.81c.8-.78.8-2.07 0-2.86zM5.41 20L4 18.59l7.72-7.72 1.47 1.35L5.41 20z\"/>\n",
       "  </svg>\n",
       "      </button>\n",
       "      \n",
       "  <style>\n",
       "    .colab-df-container {\n",
       "      display:flex;\n",
       "      flex-wrap:wrap;\n",
       "      gap: 12px;\n",
       "    }\n",
       "\n",
       "    .colab-df-convert {\n",
       "      background-color: #E8F0FE;\n",
       "      border: none;\n",
       "      border-radius: 50%;\n",
       "      cursor: pointer;\n",
       "      display: none;\n",
       "      fill: #1967D2;\n",
       "      height: 32px;\n",
       "      padding: 0 0 0 0;\n",
       "      width: 32px;\n",
       "    }\n",
       "\n",
       "    .colab-df-convert:hover {\n",
       "      background-color: #E2EBFA;\n",
       "      box-shadow: 0px 1px 2px rgba(60, 64, 67, 0.3), 0px 1px 3px 1px rgba(60, 64, 67, 0.15);\n",
       "      fill: #174EA6;\n",
       "    }\n",
       "\n",
       "    [theme=dark] .colab-df-convert {\n",
       "      background-color: #3B4455;\n",
       "      fill: #D2E3FC;\n",
       "    }\n",
       "\n",
       "    [theme=dark] .colab-df-convert:hover {\n",
       "      background-color: #434B5C;\n",
       "      box-shadow: 0px 1px 3px 1px rgba(0, 0, 0, 0.15);\n",
       "      filter: drop-shadow(0px 1px 2px rgba(0, 0, 0, 0.3));\n",
       "      fill: #FFFFFF;\n",
       "    }\n",
       "  </style>\n",
       "\n",
       "      <script>\n",
       "        const buttonEl =\n",
       "          document.querySelector('#df-b0fb919e-d92f-4443-8423-13b6c7b2feba button.colab-df-convert');\n",
       "        buttonEl.style.display =\n",
       "          google.colab.kernel.accessAllowed ? 'block' : 'none';\n",
       "\n",
       "        async function convertToInteractive(key) {\n",
       "          const element = document.querySelector('#df-b0fb919e-d92f-4443-8423-13b6c7b2feba');\n",
       "          const dataTable =\n",
       "            await google.colab.kernel.invokeFunction('convertToInteractive',\n",
       "                                                     [key], {});\n",
       "          if (!dataTable) return;\n",
       "\n",
       "          const docLinkHtml = 'Like what you see? Visit the ' +\n",
       "            '<a target=\"_blank\" href=https://colab.research.google.com/notebooks/data_table.ipynb>data table notebook</a>'\n",
       "            + ' to learn more about interactive tables.';\n",
       "          element.innerHTML = '';\n",
       "          dataTable['output_type'] = 'display_data';\n",
       "          await google.colab.output.renderOutput(dataTable, element);\n",
       "          const docLink = document.createElement('div');\n",
       "          docLink.innerHTML = docLinkHtml;\n",
       "          element.appendChild(docLink);\n",
       "        }\n",
       "      </script>\n",
       "    </div>\n",
       "  </div>\n",
       "  "
      ],
      "text/plain": [
       "             Name Code\n",
       "0     Afghanistan   AF\n",
       "1   Åland Islands   AX\n",
       "2         Albania   AL\n",
       "3         Algeria   DZ\n",
       "4  American Samoa   AS"
      ]
     },
     "execution_count": 45,
     "metadata": {},
     "output_type": "execute_result"
    }
   ],
   "source": [
    "df2 = pd.read_csv('/content/Country_codes.csv')\n",
    "df2.head()"
   ]
  },
  {
   "cell_type": "code",
   "execution_count": null,
   "metadata": {
    "id": "kxSUIeuTLyld"
   },
   "outputs": [],
   "source": [
    "df = pd.merge(df, df2, left_on =\"Country\", right_on = \"Code\")\n",
    "df.drop(['Code'], axis =1, inplace = True)\n",
    "#df.drop(['Name_x'], axis =1, inplace = True)"
   ]
  },
  {
   "cell_type": "code",
   "execution_count": null,
   "metadata": {
    "id": "SBI_hAZDJUjw"
   },
   "outputs": [],
   "source": [
    "df.to_csv('Locations.csv', index = False)"
   ]
  },
  {
   "cell_type": "code",
   "execution_count": null,
   "metadata": {
    "colab": {
     "base_uri": "https://localhost:8080/",
     "height": 206
    },
    "id": "cmwKlQqrl9Ip",
    "outputId": "1da95f99-072a-4194-d522-22cd024cc9b8"
   },
   "outputs": [
    {
     "data": {
      "text/html": [
       "\n",
       "  <div id=\"df-89294fc0-234a-4f62-a8cc-829b84b4fcff\">\n",
       "    <div class=\"colab-df-container\">\n",
       "      <div>\n",
       "<style scoped>\n",
       "    .dataframe tbody tr th:only-of-type {\n",
       "        vertical-align: middle;\n",
       "    }\n",
       "\n",
       "    .dataframe tbody tr th {\n",
       "        vertical-align: top;\n",
       "    }\n",
       "\n",
       "    .dataframe thead th {\n",
       "        text-align: right;\n",
       "    }\n",
       "</style>\n",
       "<table border=\"1\" class=\"dataframe\">\n",
       "  <thead>\n",
       "    <tr style=\"text-align: right;\">\n",
       "      <th></th>\n",
       "      <th>Date</th>\n",
       "      <th>Time</th>\n",
       "      <th>Latitude</th>\n",
       "      <th>Longitude</th>\n",
       "      <th>Depth</th>\n",
       "      <th>Magnitude</th>\n",
       "      <th>ID</th>\n",
       "      <th>Country</th>\n",
       "      <th>Name</th>\n",
       "    </tr>\n",
       "  </thead>\n",
       "  <tbody>\n",
       "    <tr>\n",
       "      <th>0</th>\n",
       "      <td>01/02/1965</td>\n",
       "      <td>13:44:18</td>\n",
       "      <td>19.246</td>\n",
       "      <td>145.616</td>\n",
       "      <td>131.6</td>\n",
       "      <td>6.0</td>\n",
       "      <td>ISCGEM860706</td>\n",
       "      <td>MP</td>\n",
       "      <td>Northern Mariana Islands</td>\n",
       "    </tr>\n",
       "    <tr>\n",
       "      <th>1</th>\n",
       "      <td>02/17/1965</td>\n",
       "      <td>18:23:57</td>\n",
       "      <td>21.527</td>\n",
       "      <td>143.081</td>\n",
       "      <td>340.0</td>\n",
       "      <td>5.6</td>\n",
       "      <td>ISCGEM860296</td>\n",
       "      <td>MP</td>\n",
       "      <td>Northern Mariana Islands</td>\n",
       "    </tr>\n",
       "    <tr>\n",
       "      <th>2</th>\n",
       "      <td>04/25/1965</td>\n",
       "      <td>01:00:15</td>\n",
       "      <td>24.409</td>\n",
       "      <td>142.776</td>\n",
       "      <td>30.0</td>\n",
       "      <td>6.0</td>\n",
       "      <td>ISCGEM858003</td>\n",
       "      <td>MP</td>\n",
       "      <td>Northern Mariana Islands</td>\n",
       "    </tr>\n",
       "    <tr>\n",
       "      <th>3</th>\n",
       "      <td>02/10/1966</td>\n",
       "      <td>14:21:13</td>\n",
       "      <td>20.711</td>\n",
       "      <td>146.163</td>\n",
       "      <td>45.7</td>\n",
       "      <td>6.5</td>\n",
       "      <td>ISCGEM850077</td>\n",
       "      <td>MP</td>\n",
       "      <td>Northern Mariana Islands</td>\n",
       "    </tr>\n",
       "    <tr>\n",
       "      <th>4</th>\n",
       "      <td>03/29/1966</td>\n",
       "      <td>02:17:40</td>\n",
       "      <td>23.869</td>\n",
       "      <td>142.248</td>\n",
       "      <td>80.0</td>\n",
       "      <td>6.0</td>\n",
       "      <td>ISCGEM849682</td>\n",
       "      <td>MP</td>\n",
       "      <td>Northern Mariana Islands</td>\n",
       "    </tr>\n",
       "  </tbody>\n",
       "</table>\n",
       "</div>\n",
       "      <button class=\"colab-df-convert\" onclick=\"convertToInteractive('df-89294fc0-234a-4f62-a8cc-829b84b4fcff')\"\n",
       "              title=\"Convert this dataframe to an interactive table.\"\n",
       "              style=\"display:none;\">\n",
       "        \n",
       "  <svg xmlns=\"http://www.w3.org/2000/svg\" height=\"24px\"viewBox=\"0 0 24 24\"\n",
       "       width=\"24px\">\n",
       "    <path d=\"M0 0h24v24H0V0z\" fill=\"none\"/>\n",
       "    <path d=\"M18.56 5.44l.94 2.06.94-2.06 2.06-.94-2.06-.94-.94-2.06-.94 2.06-2.06.94zm-11 1L8.5 8.5l.94-2.06 2.06-.94-2.06-.94L8.5 2.5l-.94 2.06-2.06.94zm10 10l.94 2.06.94-2.06 2.06-.94-2.06-.94-.94-2.06-.94 2.06-2.06.94z\"/><path d=\"M17.41 7.96l-1.37-1.37c-.4-.4-.92-.59-1.43-.59-.52 0-1.04.2-1.43.59L10.3 9.45l-7.72 7.72c-.78.78-.78 2.05 0 2.83L4 21.41c.39.39.9.59 1.41.59.51 0 1.02-.2 1.41-.59l7.78-7.78 2.81-2.81c.8-.78.8-2.07 0-2.86zM5.41 20L4 18.59l7.72-7.72 1.47 1.35L5.41 20z\"/>\n",
       "  </svg>\n",
       "      </button>\n",
       "      \n",
       "  <style>\n",
       "    .colab-df-container {\n",
       "      display:flex;\n",
       "      flex-wrap:wrap;\n",
       "      gap: 12px;\n",
       "    }\n",
       "\n",
       "    .colab-df-convert {\n",
       "      background-color: #E8F0FE;\n",
       "      border: none;\n",
       "      border-radius: 50%;\n",
       "      cursor: pointer;\n",
       "      display: none;\n",
       "      fill: #1967D2;\n",
       "      height: 32px;\n",
       "      padding: 0 0 0 0;\n",
       "      width: 32px;\n",
       "    }\n",
       "\n",
       "    .colab-df-convert:hover {\n",
       "      background-color: #E2EBFA;\n",
       "      box-shadow: 0px 1px 2px rgba(60, 64, 67, 0.3), 0px 1px 3px 1px rgba(60, 64, 67, 0.15);\n",
       "      fill: #174EA6;\n",
       "    }\n",
       "\n",
       "    [theme=dark] .colab-df-convert {\n",
       "      background-color: #3B4455;\n",
       "      fill: #D2E3FC;\n",
       "    }\n",
       "\n",
       "    [theme=dark] .colab-df-convert:hover {\n",
       "      background-color: #434B5C;\n",
       "      box-shadow: 0px 1px 3px 1px rgba(0, 0, 0, 0.15);\n",
       "      filter: drop-shadow(0px 1px 2px rgba(0, 0, 0, 0.3));\n",
       "      fill: #FFFFFF;\n",
       "    }\n",
       "  </style>\n",
       "\n",
       "      <script>\n",
       "        const buttonEl =\n",
       "          document.querySelector('#df-89294fc0-234a-4f62-a8cc-829b84b4fcff button.colab-df-convert');\n",
       "        buttonEl.style.display =\n",
       "          google.colab.kernel.accessAllowed ? 'block' : 'none';\n",
       "\n",
       "        async function convertToInteractive(key) {\n",
       "          const element = document.querySelector('#df-89294fc0-234a-4f62-a8cc-829b84b4fcff');\n",
       "          const dataTable =\n",
       "            await google.colab.kernel.invokeFunction('convertToInteractive',\n",
       "                                                     [key], {});\n",
       "          if (!dataTable) return;\n",
       "\n",
       "          const docLinkHtml = 'Like what you see? Visit the ' +\n",
       "            '<a target=\"_blank\" href=https://colab.research.google.com/notebooks/data_table.ipynb>data table notebook</a>'\n",
       "            + ' to learn more about interactive tables.';\n",
       "          element.innerHTML = '';\n",
       "          dataTable['output_type'] = 'display_data';\n",
       "          await google.colab.output.renderOutput(dataTable, element);\n",
       "          const docLink = document.createElement('div');\n",
       "          docLink.innerHTML = docLinkHtml;\n",
       "          element.appendChild(docLink);\n",
       "        }\n",
       "      </script>\n",
       "    </div>\n",
       "  </div>\n",
       "  "
      ],
      "text/plain": [
       "         Date      Time  Latitude  Longitude  Depth  Magnitude            ID  \\\n",
       "0  01/02/1965  13:44:18    19.246    145.616  131.6        6.0  ISCGEM860706   \n",
       "1  02/17/1965  18:23:57    21.527    143.081  340.0        5.6  ISCGEM860296   \n",
       "2  04/25/1965  01:00:15    24.409    142.776   30.0        6.0  ISCGEM858003   \n",
       "3  02/10/1966  14:21:13    20.711    146.163   45.7        6.5  ISCGEM850077   \n",
       "4  03/29/1966  02:17:40    23.869    142.248   80.0        6.0  ISCGEM849682   \n",
       "\n",
       "  Country                      Name  \n",
       "0      MP  Northern Mariana Islands  \n",
       "1      MP  Northern Mariana Islands  \n",
       "2      MP  Northern Mariana Islands  \n",
       "3      MP  Northern Mariana Islands  \n",
       "4      MP  Northern Mariana Islands  "
      ]
     },
     "execution_count": 67,
     "metadata": {},
     "output_type": "execute_result"
    }
   ],
   "source": [
    "df = pd.read_csv('/content/Locations.csv')\n",
    "df.drop(['Name_x'], axis =1, inplace = True)\n",
    "df.rename(columns = {'Name_y': 'Name'}, inplace = True)\n",
    "df.head()"
   ]
  },
  {
   "cell_type": "markdown",
   "metadata": {
    "id": "Vz5Ezej4L8hl"
   },
   "source": [
    "**1. PLOTTING EARTHQUAKE MAGNITUDE**"
   ]
  },
  {
   "cell_type": "code",
   "execution_count": 36,
   "metadata": {
    "colab": {
     "base_uri": "https://localhost:8080/",
     "height": 542
    },
    "id": "42cpB4CCMCe3",
    "outputId": "9f99ae50-f243-4d85-c322-76eaec932314"
   },
   "outputs": [
    {
     "data": {
      "application/vnd.plotly.v1+json": {
       "config": {
        "plotlyServerURL": "https://plot.ly"
       },
       "data": [
        {
         "autobinx": false,
         "histnorm": "probability density",
         "legendgroup": "Earthquake Magnitude",
         "marker": {
          "color": "rgb(31, 119, 180)"
         },
         "name": "Earthquake Magnitude",
         "opacity": 0.7,
         "type": "histogram",
         "x": [
          3.5,
          3.9,
          4.5,
          4.1,
          4.2,
          3.4,
          3.3,
          3.7,
          4.2,
          4.7,
          3.8,
          3.7,
          3.2,
          3,
          3.8,
          2.8,
          2.5,
          3.5,
          2.9,
          2.8,
          2.7,
          2.6,
          2.6,
          2.4,
          3.1,
          2.5,
          2.9,
          3.1,
          3.1,
          3.4,
          3,
          4.2,
          3.6,
          3.3,
          3,
          3.9,
          3.6,
          4.9,
          3.3,
          3.2,
          3.1,
          2.7,
          3.6,
          3.3,
          4.1,
          3.9,
          2.4,
          3,
          2.9,
          2.7,
          2.4,
          4.1,
          2.8,
          2.5,
          3.9,
          3.5,
          3.7,
          3.6,
          2.9,
          2.7,
          2.9,
          2.9,
          3.9,
          3.3,
          4.2,
          3.1,
          3.7,
          4.1
         ],
         "xaxis": "x",
         "xbins": {
          "end": 4.9,
          "size": 1,
          "start": 2.4
         },
         "yaxis": "y"
        },
        {
         "legendgroup": "Earthquake Magnitude",
         "marker": {
          "color": "rgb(31, 119, 180)"
         },
         "mode": "lines",
         "name": "Earthquake Magnitude",
         "showlegend": false,
         "type": "scatter",
         "x": [
          2.4,
          2.405,
          2.4099999999999997,
          2.415,
          2.42,
          2.425,
          2.4299999999999997,
          2.435,
          2.44,
          2.445,
          2.4499999999999997,
          2.455,
          2.46,
          2.465,
          2.4699999999999998,
          2.475,
          2.48,
          2.485,
          2.4899999999999998,
          2.495,
          2.5,
          2.505,
          2.51,
          2.515,
          2.52,
          2.525,
          2.53,
          2.535,
          2.54,
          2.545,
          2.55,
          2.5549999999999997,
          2.56,
          2.565,
          2.57,
          2.5749999999999997,
          2.58,
          2.585,
          2.59,
          2.5949999999999998,
          2.6,
          2.605,
          2.61,
          2.6149999999999998,
          2.62,
          2.625,
          2.63,
          2.635,
          2.64,
          2.645,
          2.65,
          2.655,
          2.66,
          2.665,
          2.67,
          2.675,
          2.68,
          2.685,
          2.69,
          2.695,
          2.7,
          2.705,
          2.71,
          2.715,
          2.7199999999999998,
          2.725,
          2.73,
          2.735,
          2.74,
          2.745,
          2.75,
          2.755,
          2.76,
          2.765,
          2.77,
          2.775,
          2.78,
          2.785,
          2.79,
          2.795,
          2.8,
          2.805,
          2.81,
          2.815,
          2.82,
          2.825,
          2.83,
          2.835,
          2.84,
          2.8449999999999998,
          2.85,
          2.855,
          2.86,
          2.865,
          2.87,
          2.875,
          2.88,
          2.885,
          2.89,
          2.895,
          2.9,
          2.9050000000000002,
          2.91,
          2.915,
          2.92,
          2.925,
          2.93,
          2.935,
          2.94,
          2.9450000000000003,
          2.95,
          2.955,
          2.96,
          2.965,
          2.9699999999999998,
          2.975,
          2.98,
          2.985,
          2.99,
          2.995,
          3,
          3.005,
          3.01,
          3.015,
          3.02,
          3.025,
          3.0300000000000002,
          3.035,
          3.04,
          3.045,
          3.05,
          3.055,
          3.06,
          3.065,
          3.0700000000000003,
          3.075,
          3.08,
          3.085,
          3.09,
          3.0949999999999998,
          3.1,
          3.105,
          3.11,
          3.115,
          3.12,
          3.125,
          3.13,
          3.135,
          3.14,
          3.145,
          3.15,
          3.1550000000000002,
          3.16,
          3.165,
          3.17,
          3.175,
          3.18,
          3.185,
          3.19,
          3.1950000000000003,
          3.2,
          3.205,
          3.21,
          3.215,
          3.2199999999999998,
          3.225,
          3.23,
          3.235,
          3.24,
          3.245,
          3.25,
          3.255,
          3.26,
          3.265,
          3.27,
          3.275,
          3.2800000000000002,
          3.285,
          3.29,
          3.295,
          3.3,
          3.305,
          3.31,
          3.315,
          3.3200000000000003,
          3.325,
          3.33,
          3.335,
          3.34,
          3.3449999999999998,
          3.35,
          3.355,
          3.3600000000000003,
          3.365,
          3.37,
          3.375,
          3.38,
          3.3850000000000002,
          3.39,
          3.395,
          3.4000000000000004,
          3.4050000000000002,
          3.41,
          3.415,
          3.42,
          3.425,
          3.43,
          3.435,
          3.4400000000000004,
          3.4450000000000003,
          3.45,
          3.455,
          3.46,
          3.465,
          3.47,
          3.475,
          3.4800000000000004,
          3.4850000000000003,
          3.49,
          3.495,
          3.5,
          3.505,
          3.5100000000000002,
          3.515,
          3.5200000000000005,
          3.5250000000000004,
          3.5300000000000002,
          3.535,
          3.54,
          3.545,
          3.55,
          3.555,
          3.56,
          3.5650000000000004,
          3.5700000000000003,
          3.575,
          3.58,
          3.585,
          3.59,
          3.595,
          3.6,
          3.6050000000000004,
          3.6100000000000003,
          3.615,
          3.62,
          3.625,
          3.63,
          3.6350000000000002,
          3.64,
          3.6450000000000005,
          3.6500000000000004,
          3.6550000000000002,
          3.66,
          3.665,
          3.67,
          3.675,
          3.68,
          3.685,
          3.6900000000000004,
          3.6950000000000003,
          3.7,
          3.705,
          3.71,
          3.715,
          3.72,
          3.725,
          3.7300000000000004,
          3.7350000000000003,
          3.74,
          3.745,
          3.75,
          3.755,
          3.7600000000000002,
          3.765,
          3.7700000000000005,
          3.7750000000000004,
          3.7800000000000002,
          3.785,
          3.79,
          3.795,
          3.8,
          3.805,
          3.81,
          3.8150000000000004,
          3.8200000000000003,
          3.825,
          3.83,
          3.835,
          3.84,
          3.845,
          3.85,
          3.8550000000000004,
          3.8600000000000003,
          3.865,
          3.87,
          3.875,
          3.88,
          3.8850000000000002,
          3.89,
          3.8950000000000005,
          3.9000000000000004,
          3.9050000000000002,
          3.91,
          3.915,
          3.92,
          3.925,
          3.93,
          3.935,
          3.9400000000000004,
          3.9450000000000003,
          3.95,
          3.955,
          3.96,
          3.965,
          3.97,
          3.975,
          3.9800000000000004,
          3.9850000000000003,
          3.99,
          3.995,
          4,
          4.005,
          4.01,
          4.015000000000001,
          4.0200000000000005,
          4.025,
          4.03,
          4.035,
          4.04,
          4.045,
          4.05,
          4.055,
          4.0600000000000005,
          4.065,
          4.07,
          4.075,
          4.08,
          4.085,
          4.09,
          4.095000000000001,
          4.1,
          4.105,
          4.11,
          4.115,
          4.12,
          4.125,
          4.13,
          4.135,
          4.140000000000001,
          4.1450000000000005,
          4.15,
          4.155,
          4.16,
          4.165,
          4.17,
          4.175,
          4.18,
          4.1850000000000005,
          4.19,
          4.195,
          4.2,
          4.205,
          4.21,
          4.215,
          4.220000000000001,
          4.225,
          4.23,
          4.235,
          4.24,
          4.245,
          4.25,
          4.255,
          4.26,
          4.265000000000001,
          4.2700000000000005,
          4.275,
          4.28,
          4.285,
          4.29,
          4.295,
          4.3,
          4.305,
          4.3100000000000005,
          4.315,
          4.32,
          4.325,
          4.33,
          4.335000000000001,
          4.34,
          4.345000000000001,
          4.3500000000000005,
          4.355,
          4.36,
          4.365,
          4.37,
          4.375,
          4.380000000000001,
          4.385000000000001,
          4.390000000000001,
          4.3950000000000005,
          4.4,
          4.405,
          4.41,
          4.415000000000001,
          4.42,
          4.425000000000001,
          4.43,
          4.4350000000000005,
          4.44,
          4.445,
          4.45,
          4.455,
          4.460000000000001,
          4.465,
          4.470000000000001,
          4.4750000000000005,
          4.48,
          4.485,
          4.49,
          4.495000000000001,
          4.5,
          4.505000000000001,
          4.51,
          4.515000000000001,
          4.5200000000000005,
          4.525,
          4.53,
          4.535,
          4.540000000000001,
          4.545,
          4.550000000000001,
          4.555,
          4.5600000000000005,
          4.565,
          4.57,
          4.575,
          4.58,
          4.585000000000001,
          4.59,
          4.595000000000001,
          4.6000000000000005,
          4.605,
          4.61,
          4.615,
          4.620000000000001,
          4.625,
          4.630000000000001,
          4.635,
          4.640000000000001,
          4.6450000000000005,
          4.65,
          4.655,
          4.66,
          4.665000000000001,
          4.67,
          4.675000000000001,
          4.68,
          4.6850000000000005,
          4.69,
          4.695,
          4.7,
          4.705,
          4.710000000000001,
          4.715,
          4.720000000000001,
          4.7250000000000005,
          4.73,
          4.735,
          4.74,
          4.745000000000001,
          4.75,
          4.755000000000001,
          4.76,
          4.765000000000001,
          4.7700000000000005,
          4.775,
          4.78,
          4.785,
          4.790000000000001,
          4.795,
          4.800000000000001,
          4.805,
          4.8100000000000005,
          4.815,
          4.82,
          4.825,
          4.83,
          4.835000000000001,
          4.84,
          4.845000000000001,
          4.8500000000000005,
          4.855,
          4.86,
          4.865,
          4.870000000000001,
          4.875,
          4.880000000000001,
          4.885,
          4.890000000000001,
          4.8950000000000005
         ],
         "xaxis": "x",
         "y": [
          0.262420584595036,
          0.2663164734078062,
          0.27021852694023124,
          0.2741258493836097,
          0.2780375496790765,
          0.2819527419882462,
          0.2858705461292633,
          0.2897900879777043,
          0.29371049983190833,
          0.29763092074245395,
          0.30155049680561913,
          0.3054683814208173,
          0.30938373551213444,
          0.31329572771421793,
          0.317203534522922,
          0.32110634041122826,
          0.3250033379111153,
          0.3288937276621613,
          0.332776718427797,
          0.3366515270802568,
          0.34051737855538755,
          0.3443735057785867,
          0.3482191495632623,
          0.35205355848330405,
          0.3558759887211492,
          0.35968570389313864,
          0.3634819748539211,
          0.36726407948175777,
          0.3710313024466467,
          0.374782934963261,
          0.3785182745307277,
          0.382236624661354,
          0.3859372946004263,
          0.3896195990392462,
          0.39328285782360206,
          0.39692639565986854,
          0.40054954182095853,
          0.4041516298543313,
          0.40773199729426013,
          0.4112899853805408,
          0.41482493878579596,
          0.4183362053534934,
          0.4218231358487524,
          0.4252850837239639,
          0.42872140490118077,
          0.4321314575731767,
          0.4355146020249942,
          0.4388702004777132,
          0.4421976169560897,
          0.4454962171816183,
          0.4487653684924662,
          0.45200443979161575,
          0.45521280152445687,
          0.45838982568692216,
          0.46153488586517327,
          0.4646473573076838,
          0.4677266170304621,
          0.47077204395600736,
          0.47378301908646747,
          0.4767589257113249,
          0.4796991496497964,
          0.48260307952799597,
          0.48547010709077426,
          0.48829962754799766,
          0.4910910399548929,
          0.4938437476259594,
          0.49655715858179106,
          0.4992306860280354,
          0.5018637488655708,
          0.5044557722308651,
          0.5070061880653516,
          0.5095144357125199,
          0.5119799625413406,
          0.5144022245944816,
          0.5167806872597133,
          0.5191148259627639,
          0.5214041268798119,
          0.5236480876677082,
          0.5258462182099267,
          0.527998041376192,
          0.5301030937936345,
          0.5321609266272846,
          0.5341711063676539,
          0.5361332156231094,
          0.5380468539146978,
          0.5399116384710664,
          0.5417272050210854,
          0.5434932085817689,
          0.5452093242390905,
          0.5468752479192784,
          0.5484906971481999,
          0.55005541179644,
          0.5515691548077349,
          0.5530317129084128,
          0.5544428972955768,
          0.5558025443017738,
          0.5571105160339735,
          0.558366700984728,
          0.5595710146134526,
          0.5607233998958425,
          0.5618238278395219,
          0.5628722979640988,
          0.5638688387438915,
          0.5648135080117014,
          0.5657063933220754,
          0.5665476122726405,
          0.5673373127821735,
          0.568075673324193,
          0.5687629031149705,
          0.5693992422549792,
          0.5699849618229055,
          0.5705203639214864,
          0.5710057816745441,
          0.5714415791747169,
          0.5718281513815142,
          0.5721659239694383,
          0.5724553531260491,
          0.5726969252999653,
          0.5728911568989175,
          0.5730385939381013,
          0.5731398116391783,
          0.5731954139804133,
          0.5732060331985329,
          0.5731723292430212,
          0.5730949891836576,
          0.5729747265722331,
          0.5728122807594643,
          0.5726084161682423,
          0.5723639215244313,
          0.5720796090465436,
          0.5717563135956921,
          0.5713948917873112,
          0.5709962210662146,
          0.5705611987466337,
          0.5700907410189471,
          0.569585781924888,
          0.569047272303053,
          0.5684761787066197,
          0.5678734822952065,
          0.5672401777028655,
          0.5665772718842346,
          0.5658857829409129,
          0.5651667389301448,
          0.5644211766579352,
          0.5636501404587265,
          0.5628546809637877,
          0.5620358538604759,
          0.5611947186445362,
          0.5603323373675999,
          0.5594497733820463,
          0.5585480900853809,
          0.5576283496662626,
          0.5566916118543145,
          0.5557389326758029,
          0.5547713632172799,
          0.5537899483992219,
          0.5527957257616897,
          0.5517897242639844,
          0.5507729631002454,
          0.5497464505328873,
          0.5487111827457289,
          0.5476681427186245,
          0.5466182991253526,
          0.5455626052564616,
          0.5445019979687292,
          0.5434373966628165,
          0.5423697022906557,
          0.5412997963940356,
          0.5402285401757929,
          0.5391567736049546,
          0.5380853145570986,
          0.5370149579911433,
          0.535946475163707,
          0.5348806128820948,
          0.5338180927969185,
          0.5327596107352646,
          0.5317058360752595,
          0.530657411162817,
          0.5296149507712479,
          0.5285790416043785,
          0.5275502418437062,
          0.5265290807400758,
          0.5255160582502639,
          0.5245116447187914,
          0.5235162806051973,
          0.5225303762569462,
          0.5215543117280376,
          0.5205884366433371,
          0.5196330701085453,
          0.5186885006656645,
          0.5177549862937273,
          0.5168327544544911,
          0.5159220021827111,
          0.5150228962205399,
          0.5141355731955165,
          0.5132601398415444,
          0.5123966732621704,
          0.5115452212354156,
          0.5107058025593292,
          0.5098784074373685,
          0.5090629979026384,
          0.5082595082799534,
          0.507467845684621,
          0.506687890556776,
          0.5059194972300383,
          0.5051624945331931,
          0.5044166864235478,
          0.503681852650548,
          0.5029577494481887,
          0.5022441102546986,
          0.5015406464579322,
          0.5008470481648419,
          0.5001629849933761,
          0.4994881068850935,
          0.4988220449367508,
          0.498164412249087,
          0.49751480479098226,
          0.49687280227717634,
          0.49623796905764866,
          0.4956098550168096,
          0.49498799648057396,
          0.49437191712942496,
          0.49376112891552953,
          0.4931551329819908,
          0.4925534205823078,
          0.4919554739981249,
          0.491360767453357,
          0.49076876802280234,
          0.4901789365333593,
          0.48959072845600293,
          0.48900359478669025,
          0.4884169829144135,
          0.4878303374746494,
          0.48724310118649267,
          0.48665471567182594,
          0.4860646222549105,
          0.4854722627408633,
          0.4848770801715238,
          0.48427851955730666,
          0.48367602858368325,
          0.48306905829103247,
          0.48245706372666564,
          0.4818395045679222,
          0.48121584571531845,
          0.480585557854825,
          0.47994811798843684,
          0.4793030099323065,
          0.47864972478180723,
          0.4779877613429893,
          0.4773166265300167,
          0.4766358357282567,
          0.475944913122817,
          0.4752433919924391,
          0.47453081496875255,
          0.473806734261023,
          0.4730707118466309,
          0.4723223196276283,
          0.47156113955384527,
          0.4707867637131074,
          0.4699987943892618,
          0.4691968440887905,
          0.46838053553692094,
          0.4675495016442256,
          0.46670338544482254,
          0.465841840007368,
          0.46496452832014745,
          0.46407112315164,
          0.463161306888032,
          0.4622347713492354,
          0.4612912175850336,
          0.46033035565306085,
          0.4593519043803732,
          0.45835559111044544,
          0.45734115143746124,
          0.4563083289298273,
          0.4552568748448737,
          0.4541865478367328,
          0.45309711365942607,
          0.4519883448671905,
          0.4508600205140995,
          0.4497119258550288,
          0.44854385205001923,
          0.4473555958740617,
          0.44614695943433047,
          0.4449177498968393,
          0.4436677792244731,
          0.44239686392829963,
          0.4411048248340087,
          0.4397914868652726,
          0.43845667884574757,
          0.4371002333213681,
          0.435721986404495,
          0.4343217776413994,
          0.4328994499044523,
          0.431454849310311,
          0.4299878251652605,
          0.42849822993876846,
          0.426985919266191,
          0.42545075198143567,
          0.4238925901802684,
          0.4223112993148055,
          0.4207067483196108,
          0.4190788097696617,
          0.4174273600703194,
          0.41575227967928147,
          0.4140534533603625,
          0.41233077046878613,
          0.41058412526753885,
          0.40881341727417797,
          0.4070185516373437,
          0.405199439542083,
          0.40335599864293964,
          0.4014881535236411,
          0.39959583618205163,
          0.39767898653895156,
          0.3957375529690567,
          0.393771492852565,
          0.3917807731454178,
          0.38976537096632047,
          0.38772527419848457,
          0.3856604821039388,
          0.3835710059481658,
          0.3814568696327381,
          0.3793181103335471,
          0.3771547791421523,
          0.37496694170771083,
          0.3727546788769066,
          0.37051808732925223,
          0.3682572802050995,
          0.36597238772368157,
          0.3636635577884947,
          0.3613309565773231,
          0.3589747691142235,
          0.3565951998208042,
          0.35419247304415896,
          0.351766833558864,
          0.3493185470404893,
          0.34684790050813796,
          0.3443552027336009,
          0.34184078461478956,
          0.3393049995112012,
          0.33674822353926814,
          0.33417085582556116,
          0.3315733187159082,
          0.32895605793864746,
          0.3263195427203362,
          0.3236642658523949,
          0.3209907437073053,
          0.3182995162031361,
          0.31559114671532124,
          0.31286622193478675,
          0.31012535167169336,
          0.307369168604214,
          0.3045983279719636,
          0.3018135072138645,
          0.299015405550401,
          0.29620474351041876,
          0.29338226240278686,
          0.2905487237334254,
          0.28770490856838454,
          0.2848516168438455,
          0.28198966662406394,
          0.27911989330848674,
          0.27624314878941514,
          0.2733603005617531,
          0.2704722307865664,
          0.26757983531029533,
          0.2646840226416491,
          0.26178571288832425,
          0.2588858366558481,
          0.25598533391095357,
          0.2530851528120335,
          0.25018624850932525,
          0.24728958191756484,
          0.24439611846397716,
          0.2415068268145169,
          0.23862267758137023,
          0.23574464201479056,
          0.23287369068238833,
          0.23001079213903658,
          0.22715691159060236,
          0.2243130095547203,
          0.2214800405218399,
          0.21865895161979423,
          0.2158506812850978,
          0.21305615794420324,
          0.21027629870787176,
          0.207512008081809,
          0.2047641766966531,
          0.2020336800603233,
          0.19932137733572097,
          0.19662811014662868,
          0.1939547014146228,
          0.19130195422969046,
          0.18867065075714937,
          0.18606155118334766,
          0.18347539270252314,
          0.1809128885470605,
          0.1783747270632525,
          0.17586157083455986,
          0.17337405585419788,
          0.17091279074874105,
          0.16847835605430111,
          0.16607130354666566,
          0.16369215562663583,
          0.16134140476164552,
          0.15901951298459985,
          0.15672691145066972,
          0.15446400005268462,
          0.15223114709554003,
          0.15002868902992347,
          0.14785693024548727,
          0.14571614292344076,
          0.1436065669483844,
          0.14152840987905235,
          0.13948184697750052,
          0.13746702129609603,
          0.13548404382156753,
          0.1335329936752114,
          0.1316139183682224,
          0.12972683411100527,
          0.12787172617518205,
          0.1260485493069237,
          0.1242572281900861,
          0.1224976579575802,
          0.12076970474925727,
          0.11907320631454073,
          0.1174079726579322,
          0.11577378672545494,
          0.11417040513002003,
          0.11259755891364388,
          0.11105495434440041,
          0.10954227374591582,
          0.10805917635721396,
          0.10660529922064707,
          0.10518025809564642,
          0.1037836483959992,
          0.10241504614834174,
          0.10107400896955794,
          0.09976007706076682,
          0.09847277421560073,
          0.09721160884046387,
          0.09597607498451032,
          0.0947656533770785,
          0.09357981247035946,
          0.09241800948511246,
          0.09127969145727027,
          0.09016429628333429,
          0.08907125376248988,
          0.08799998663344695,
          0.08694991160403813,
          0.08592044037169537,
          0.08491098063296683,
          0.08392093708030837,
          0.08294971238445721,
          0.08199670816075386,
          0.08106132591786461,
          0.08014296798741426,
          0.07924103843313583,
          0.07835494393819577,
          0.0774840946694535,
          0.0766279051174789,
          0.07578579491123545,
          0.07495718960641473,
          0.07414152144648724,
          0.07333823009561788,
          0.07254676334266369,
          0.07176657777555999,
          0.07099713942547399,
          0.07023792438017849,
          0.06948841936618175,
          0.068748122299214,
          0.0680165428027552,
          0.06729320269434681,
          0.0665776364395169,
          0.06586939157319607,
          0.06516802908858785,
          0.06447312379350754,
          0.06378426463427203,
          0.06310105498728383,
          0.06242311291850769,
          0.061750071411099644,
          0.061081578561495486,
          0.06041729774432687,
          0.05975690774657213,
          0.059100102871406685,
          0.0584465930122572,
          0.05779610369760693,
          0.05714837610714511,
          0.056503167059883834,
          0.05586024897491328,
          0.05521940980548787,
          0.05458045294717957,
          0.05394319712085416,
          0.0533074762312634,
          0.05267313920206513,
          0.05204004978810557,
          0.05140808636583083,
          0.05077714170269686,
          0.05014712270648076
         ],
         "yaxis": "y"
        },
        {
         "legendgroup": "Earthquake Magnitude",
         "marker": {
          "color": "rgb(31, 119, 180)",
          "symbol": "line-ns-open"
         },
         "mode": "markers",
         "name": "Earthquake Magnitude",
         "showlegend": false,
         "type": "scatter",
         "x": [
          3.5,
          3.9,
          4.5,
          4.1,
          4.2,
          3.4,
          3.3,
          3.7,
          4.2,
          4.7,
          3.8,
          3.7,
          3.2,
          3,
          3.8,
          2.8,
          2.5,
          3.5,
          2.9,
          2.8,
          2.7,
          2.6,
          2.6,
          2.4,
          3.1,
          2.5,
          2.9,
          3.1,
          3.1,
          3.4,
          3,
          4.2,
          3.6,
          3.3,
          3,
          3.9,
          3.6,
          4.9,
          3.3,
          3.2,
          3.1,
          2.7,
          3.6,
          3.3,
          4.1,
          3.9,
          2.4,
          3,
          2.9,
          2.7,
          2.4,
          4.1,
          2.8,
          2.5,
          3.9,
          3.5,
          3.7,
          3.6,
          2.9,
          2.7,
          2.9,
          2.9,
          3.9,
          3.3,
          4.2,
          3.1,
          3.7,
          4.1
         ],
         "xaxis": "x",
         "y": [
          "Earthquake Magnitude",
          "Earthquake Magnitude",
          "Earthquake Magnitude",
          "Earthquake Magnitude",
          "Earthquake Magnitude",
          "Earthquake Magnitude",
          "Earthquake Magnitude",
          "Earthquake Magnitude",
          "Earthquake Magnitude",
          "Earthquake Magnitude",
          "Earthquake Magnitude",
          "Earthquake Magnitude",
          "Earthquake Magnitude",
          "Earthquake Magnitude",
          "Earthquake Magnitude",
          "Earthquake Magnitude",
          "Earthquake Magnitude",
          "Earthquake Magnitude",
          "Earthquake Magnitude",
          "Earthquake Magnitude",
          "Earthquake Magnitude",
          "Earthquake Magnitude",
          "Earthquake Magnitude",
          "Earthquake Magnitude",
          "Earthquake Magnitude",
          "Earthquake Magnitude",
          "Earthquake Magnitude",
          "Earthquake Magnitude",
          "Earthquake Magnitude",
          "Earthquake Magnitude",
          "Earthquake Magnitude",
          "Earthquake Magnitude",
          "Earthquake Magnitude",
          "Earthquake Magnitude",
          "Earthquake Magnitude",
          "Earthquake Magnitude",
          "Earthquake Magnitude",
          "Earthquake Magnitude",
          "Earthquake Magnitude",
          "Earthquake Magnitude",
          "Earthquake Magnitude",
          "Earthquake Magnitude",
          "Earthquake Magnitude",
          "Earthquake Magnitude",
          "Earthquake Magnitude",
          "Earthquake Magnitude",
          "Earthquake Magnitude",
          "Earthquake Magnitude",
          "Earthquake Magnitude",
          "Earthquake Magnitude",
          "Earthquake Magnitude",
          "Earthquake Magnitude",
          "Earthquake Magnitude",
          "Earthquake Magnitude",
          "Earthquake Magnitude",
          "Earthquake Magnitude",
          "Earthquake Magnitude",
          "Earthquake Magnitude",
          "Earthquake Magnitude",
          "Earthquake Magnitude",
          "Earthquake Magnitude",
          "Earthquake Magnitude",
          "Earthquake Magnitude",
          "Earthquake Magnitude",
          "Earthquake Magnitude",
          "Earthquake Magnitude",
          "Earthquake Magnitude",
          "Earthquake Magnitude"
         ],
         "yaxis": "y2"
        }
       ],
       "layout": {
        "barmode": "overlay",
        "hovermode": "closest",
        "legend": {
         "traceorder": "reversed"
        },
        "template": {
         "data": {
          "bar": [
           {
            "error_x": {
             "color": "#2a3f5f"
            },
            "error_y": {
             "color": "#2a3f5f"
            },
            "marker": {
             "line": {
              "color": "#E5ECF6",
              "width": 0.5
             },
             "pattern": {
              "fillmode": "overlay",
              "size": 10,
              "solidity": 0.2
             }
            },
            "type": "bar"
           }
          ],
          "barpolar": [
           {
            "marker": {
             "line": {
              "color": "#E5ECF6",
              "width": 0.5
             },
             "pattern": {
              "fillmode": "overlay",
              "size": 10,
              "solidity": 0.2
             }
            },
            "type": "barpolar"
           }
          ],
          "carpet": [
           {
            "aaxis": {
             "endlinecolor": "#2a3f5f",
             "gridcolor": "white",
             "linecolor": "white",
             "minorgridcolor": "white",
             "startlinecolor": "#2a3f5f"
            },
            "baxis": {
             "endlinecolor": "#2a3f5f",
             "gridcolor": "white",
             "linecolor": "white",
             "minorgridcolor": "white",
             "startlinecolor": "#2a3f5f"
            },
            "type": "carpet"
           }
          ],
          "choropleth": [
           {
            "colorbar": {
             "outlinewidth": 0,
             "ticks": ""
            },
            "type": "choropleth"
           }
          ],
          "contour": [
           {
            "colorbar": {
             "outlinewidth": 0,
             "ticks": ""
            },
            "colorscale": [
             [
              0,
              "#0d0887"
             ],
             [
              0.1111111111111111,
              "#46039f"
             ],
             [
              0.2222222222222222,
              "#7201a8"
             ],
             [
              0.3333333333333333,
              "#9c179e"
             ],
             [
              0.4444444444444444,
              "#bd3786"
             ],
             [
              0.5555555555555556,
              "#d8576b"
             ],
             [
              0.6666666666666666,
              "#ed7953"
             ],
             [
              0.7777777777777778,
              "#fb9f3a"
             ],
             [
              0.8888888888888888,
              "#fdca26"
             ],
             [
              1,
              "#f0f921"
             ]
            ],
            "type": "contour"
           }
          ],
          "contourcarpet": [
           {
            "colorbar": {
             "outlinewidth": 0,
             "ticks": ""
            },
            "type": "contourcarpet"
           }
          ],
          "heatmap": [
           {
            "colorbar": {
             "outlinewidth": 0,
             "ticks": ""
            },
            "colorscale": [
             [
              0,
              "#0d0887"
             ],
             [
              0.1111111111111111,
              "#46039f"
             ],
             [
              0.2222222222222222,
              "#7201a8"
             ],
             [
              0.3333333333333333,
              "#9c179e"
             ],
             [
              0.4444444444444444,
              "#bd3786"
             ],
             [
              0.5555555555555556,
              "#d8576b"
             ],
             [
              0.6666666666666666,
              "#ed7953"
             ],
             [
              0.7777777777777778,
              "#fb9f3a"
             ],
             [
              0.8888888888888888,
              "#fdca26"
             ],
             [
              1,
              "#f0f921"
             ]
            ],
            "type": "heatmap"
           }
          ],
          "heatmapgl": [
           {
            "colorbar": {
             "outlinewidth": 0,
             "ticks": ""
            },
            "colorscale": [
             [
              0,
              "#0d0887"
             ],
             [
              0.1111111111111111,
              "#46039f"
             ],
             [
              0.2222222222222222,
              "#7201a8"
             ],
             [
              0.3333333333333333,
              "#9c179e"
             ],
             [
              0.4444444444444444,
              "#bd3786"
             ],
             [
              0.5555555555555556,
              "#d8576b"
             ],
             [
              0.6666666666666666,
              "#ed7953"
             ],
             [
              0.7777777777777778,
              "#fb9f3a"
             ],
             [
              0.8888888888888888,
              "#fdca26"
             ],
             [
              1,
              "#f0f921"
             ]
            ],
            "type": "heatmapgl"
           }
          ],
          "histogram": [
           {
            "marker": {
             "pattern": {
              "fillmode": "overlay",
              "size": 10,
              "solidity": 0.2
             }
            },
            "type": "histogram"
           }
          ],
          "histogram2d": [
           {
            "colorbar": {
             "outlinewidth": 0,
             "ticks": ""
            },
            "colorscale": [
             [
              0,
              "#0d0887"
             ],
             [
              0.1111111111111111,
              "#46039f"
             ],
             [
              0.2222222222222222,
              "#7201a8"
             ],
             [
              0.3333333333333333,
              "#9c179e"
             ],
             [
              0.4444444444444444,
              "#bd3786"
             ],
             [
              0.5555555555555556,
              "#d8576b"
             ],
             [
              0.6666666666666666,
              "#ed7953"
             ],
             [
              0.7777777777777778,
              "#fb9f3a"
             ],
             [
              0.8888888888888888,
              "#fdca26"
             ],
             [
              1,
              "#f0f921"
             ]
            ],
            "type": "histogram2d"
           }
          ],
          "histogram2dcontour": [
           {
            "colorbar": {
             "outlinewidth": 0,
             "ticks": ""
            },
            "colorscale": [
             [
              0,
              "#0d0887"
             ],
             [
              0.1111111111111111,
              "#46039f"
             ],
             [
              0.2222222222222222,
              "#7201a8"
             ],
             [
              0.3333333333333333,
              "#9c179e"
             ],
             [
              0.4444444444444444,
              "#bd3786"
             ],
             [
              0.5555555555555556,
              "#d8576b"
             ],
             [
              0.6666666666666666,
              "#ed7953"
             ],
             [
              0.7777777777777778,
              "#fb9f3a"
             ],
             [
              0.8888888888888888,
              "#fdca26"
             ],
             [
              1,
              "#f0f921"
             ]
            ],
            "type": "histogram2dcontour"
           }
          ],
          "mesh3d": [
           {
            "colorbar": {
             "outlinewidth": 0,
             "ticks": ""
            },
            "type": "mesh3d"
           }
          ],
          "parcoords": [
           {
            "line": {
             "colorbar": {
              "outlinewidth": 0,
              "ticks": ""
             }
            },
            "type": "parcoords"
           }
          ],
          "pie": [
           {
            "automargin": true,
            "type": "pie"
           }
          ],
          "scatter": [
           {
            "fillpattern": {
             "fillmode": "overlay",
             "size": 10,
             "solidity": 0.2
            },
            "type": "scatter"
           }
          ],
          "scatter3d": [
           {
            "line": {
             "colorbar": {
              "outlinewidth": 0,
              "ticks": ""
             }
            },
            "marker": {
             "colorbar": {
              "outlinewidth": 0,
              "ticks": ""
             }
            },
            "type": "scatter3d"
           }
          ],
          "scattercarpet": [
           {
            "marker": {
             "colorbar": {
              "outlinewidth": 0,
              "ticks": ""
             }
            },
            "type": "scattercarpet"
           }
          ],
          "scattergeo": [
           {
            "marker": {
             "colorbar": {
              "outlinewidth": 0,
              "ticks": ""
             }
            },
            "type": "scattergeo"
           }
          ],
          "scattergl": [
           {
            "marker": {
             "colorbar": {
              "outlinewidth": 0,
              "ticks": ""
             }
            },
            "type": "scattergl"
           }
          ],
          "scattermapbox": [
           {
            "marker": {
             "colorbar": {
              "outlinewidth": 0,
              "ticks": ""
             }
            },
            "type": "scattermapbox"
           }
          ],
          "scatterpolar": [
           {
            "marker": {
             "colorbar": {
              "outlinewidth": 0,
              "ticks": ""
             }
            },
            "type": "scatterpolar"
           }
          ],
          "scatterpolargl": [
           {
            "marker": {
             "colorbar": {
              "outlinewidth": 0,
              "ticks": ""
             }
            },
            "type": "scatterpolargl"
           }
          ],
          "scatterternary": [
           {
            "marker": {
             "colorbar": {
              "outlinewidth": 0,
              "ticks": ""
             }
            },
            "type": "scatterternary"
           }
          ],
          "surface": [
           {
            "colorbar": {
             "outlinewidth": 0,
             "ticks": ""
            },
            "colorscale": [
             [
              0,
              "#0d0887"
             ],
             [
              0.1111111111111111,
              "#46039f"
             ],
             [
              0.2222222222222222,
              "#7201a8"
             ],
             [
              0.3333333333333333,
              "#9c179e"
             ],
             [
              0.4444444444444444,
              "#bd3786"
             ],
             [
              0.5555555555555556,
              "#d8576b"
             ],
             [
              0.6666666666666666,
              "#ed7953"
             ],
             [
              0.7777777777777778,
              "#fb9f3a"
             ],
             [
              0.8888888888888888,
              "#fdca26"
             ],
             [
              1,
              "#f0f921"
             ]
            ],
            "type": "surface"
           }
          ],
          "table": [
           {
            "cells": {
             "fill": {
              "color": "#EBF0F8"
             },
             "line": {
              "color": "white"
             }
            },
            "header": {
             "fill": {
              "color": "#C8D4E3"
             },
             "line": {
              "color": "white"
             }
            },
            "type": "table"
           }
          ]
         },
         "layout": {
          "annotationdefaults": {
           "arrowcolor": "#2a3f5f",
           "arrowhead": 0,
           "arrowwidth": 1
          },
          "autotypenumbers": "strict",
          "coloraxis": {
           "colorbar": {
            "outlinewidth": 0,
            "ticks": ""
           }
          },
          "colorscale": {
           "diverging": [
            [
             0,
             "#8e0152"
            ],
            [
             0.1,
             "#c51b7d"
            ],
            [
             0.2,
             "#de77ae"
            ],
            [
             0.3,
             "#f1b6da"
            ],
            [
             0.4,
             "#fde0ef"
            ],
            [
             0.5,
             "#f7f7f7"
            ],
            [
             0.6,
             "#e6f5d0"
            ],
            [
             0.7,
             "#b8e186"
            ],
            [
             0.8,
             "#7fbc41"
            ],
            [
             0.9,
             "#4d9221"
            ],
            [
             1,
             "#276419"
            ]
           ],
           "sequential": [
            [
             0,
             "#0d0887"
            ],
            [
             0.1111111111111111,
             "#46039f"
            ],
            [
             0.2222222222222222,
             "#7201a8"
            ],
            [
             0.3333333333333333,
             "#9c179e"
            ],
            [
             0.4444444444444444,
             "#bd3786"
            ],
            [
             0.5555555555555556,
             "#d8576b"
            ],
            [
             0.6666666666666666,
             "#ed7953"
            ],
            [
             0.7777777777777778,
             "#fb9f3a"
            ],
            [
             0.8888888888888888,
             "#fdca26"
            ],
            [
             1,
             "#f0f921"
            ]
           ],
           "sequentialminus": [
            [
             0,
             "#0d0887"
            ],
            [
             0.1111111111111111,
             "#46039f"
            ],
            [
             0.2222222222222222,
             "#7201a8"
            ],
            [
             0.3333333333333333,
             "#9c179e"
            ],
            [
             0.4444444444444444,
             "#bd3786"
            ],
            [
             0.5555555555555556,
             "#d8576b"
            ],
            [
             0.6666666666666666,
             "#ed7953"
            ],
            [
             0.7777777777777778,
             "#fb9f3a"
            ],
            [
             0.8888888888888888,
             "#fdca26"
            ],
            [
             1,
             "#f0f921"
            ]
           ]
          },
          "colorway": [
           "#636efa",
           "#EF553B",
           "#00cc96",
           "#ab63fa",
           "#FFA15A",
           "#19d3f3",
           "#FF6692",
           "#B6E880",
           "#FF97FF",
           "#FECB52"
          ],
          "font": {
           "color": "#2a3f5f"
          },
          "geo": {
           "bgcolor": "white",
           "lakecolor": "white",
           "landcolor": "#E5ECF6",
           "showlakes": true,
           "showland": true,
           "subunitcolor": "white"
          },
          "hoverlabel": {
           "align": "left"
          },
          "hovermode": "closest",
          "mapbox": {
           "style": "light"
          },
          "paper_bgcolor": "white",
          "plot_bgcolor": "#E5ECF6",
          "polar": {
           "angularaxis": {
            "gridcolor": "white",
            "linecolor": "white",
            "ticks": ""
           },
           "bgcolor": "#E5ECF6",
           "radialaxis": {
            "gridcolor": "white",
            "linecolor": "white",
            "ticks": ""
           }
          },
          "scene": {
           "xaxis": {
            "backgroundcolor": "#E5ECF6",
            "gridcolor": "white",
            "gridwidth": 2,
            "linecolor": "white",
            "showbackground": true,
            "ticks": "",
            "zerolinecolor": "white"
           },
           "yaxis": {
            "backgroundcolor": "#E5ECF6",
            "gridcolor": "white",
            "gridwidth": 2,
            "linecolor": "white",
            "showbackground": true,
            "ticks": "",
            "zerolinecolor": "white"
           },
           "zaxis": {
            "backgroundcolor": "#E5ECF6",
            "gridcolor": "white",
            "gridwidth": 2,
            "linecolor": "white",
            "showbackground": true,
            "ticks": "",
            "zerolinecolor": "white"
           }
          },
          "shapedefaults": {
           "line": {
            "color": "#2a3f5f"
           }
          },
          "ternary": {
           "aaxis": {
            "gridcolor": "white",
            "linecolor": "white",
            "ticks": ""
           },
           "baxis": {
            "gridcolor": "white",
            "linecolor": "white",
            "ticks": ""
           },
           "bgcolor": "#E5ECF6",
           "caxis": {
            "gridcolor": "white",
            "linecolor": "white",
            "ticks": ""
           }
          },
          "title": {
           "x": 0.05
          },
          "xaxis": {
           "automargin": true,
           "gridcolor": "white",
           "linecolor": "white",
           "ticks": "",
           "title": {
            "standoff": 15
           },
           "zerolinecolor": "white",
           "zerolinewidth": 2
          },
          "yaxis": {
           "automargin": true,
           "gridcolor": "white",
           "linecolor": "white",
           "ticks": "",
           "title": {
            "standoff": 15
           },
           "zerolinecolor": "white",
           "zerolinewidth": 2
          }
         }
        },
        "xaxis": {
         "anchor": "y2",
         "domain": [
          0,
          1
         ],
         "zeroline": false
        },
        "yaxis": {
         "anchor": "free",
         "domain": [
          0.35,
          1
         ],
         "position": 0
        },
        "yaxis2": {
         "anchor": "x",
         "domain": [
          0,
          0.25
         ],
         "dtick": 1,
         "showticklabels": false
        }
       }
      },
      "text/html": [
       "<div>                            <div id=\"0dbaf975-f303-4cd8-99d3-ef90cfbf5538\" class=\"plotly-graph-div\" style=\"height:525px; width:100%;\"></div>            <script type=\"text/javascript\">                require([\"plotly\"], function(Plotly) {                    window.PLOTLYENV=window.PLOTLYENV || {};                                    if (document.getElementById(\"0dbaf975-f303-4cd8-99d3-ef90cfbf5538\")) {                    Plotly.newPlot(                        \"0dbaf975-f303-4cd8-99d3-ef90cfbf5538\",                        [{\"autobinx\":false,\"histnorm\":\"probability density\",\"legendgroup\":\"Earthquake Magnitude\",\"marker\":{\"color\":\"rgb(31, 119, 180)\"},\"name\":\"Earthquake Magnitude\",\"opacity\":0.7,\"x\":[3.5,3.9,4.5,4.1,4.2,3.4,3.3,3.7,4.2,4.7,3.8,3.7,3.2,3.0,3.8,2.8,2.5,3.5,2.9,2.8,2.7,2.6,2.6,2.4,3.1,2.5,2.9,3.1,3.1,3.4,3.0,4.2,3.6,3.3,3.0,3.9,3.6,4.9,3.3,3.2,3.1,2.7,3.6,3.3,4.1,3.9,2.4,3.0,2.9,2.7,2.4,4.1,2.8,2.5,3.9,3.5,3.7,3.6,2.9,2.7,2.9,2.9,3.9,3.3,4.2,3.1,3.7,4.1],\"xaxis\":\"x\",\"xbins\":{\"end\":4.9,\"size\":1.0,\"start\":2.4},\"yaxis\":\"y\",\"type\":\"histogram\"},{\"legendgroup\":\"Earthquake Magnitude\",\"marker\":{\"color\":\"rgb(31, 119, 180)\"},\"mode\":\"lines\",\"name\":\"Earthquake Magnitude\",\"showlegend\":false,\"x\":[2.4,2.405,2.4099999999999997,2.415,2.42,2.425,2.4299999999999997,2.435,2.44,2.445,2.4499999999999997,2.455,2.46,2.465,2.4699999999999998,2.475,2.48,2.485,2.4899999999999998,2.495,2.5,2.505,2.51,2.515,2.52,2.525,2.53,2.535,2.54,2.545,2.55,2.5549999999999997,2.56,2.565,2.57,2.5749999999999997,2.58,2.585,2.59,2.5949999999999998,2.6,2.605,2.61,2.6149999999999998,2.62,2.625,2.63,2.635,2.64,2.645,2.65,2.655,2.66,2.665,2.67,2.675,2.68,2.685,2.69,2.695,2.7,2.705,2.71,2.715,2.7199999999999998,2.725,2.73,2.735,2.74,2.745,2.75,2.755,2.76,2.765,2.77,2.775,2.78,2.785,2.79,2.795,2.8,2.805,2.81,2.815,2.82,2.825,2.83,2.835,2.84,2.8449999999999998,2.85,2.855,2.86,2.865,2.87,2.875,2.88,2.885,2.89,2.895,2.9,2.9050000000000002,2.91,2.915,2.92,2.925,2.93,2.935,2.94,2.9450000000000003,2.95,2.955,2.96,2.965,2.9699999999999998,2.975,2.98,2.985,2.99,2.995,3.0,3.005,3.01,3.015,3.02,3.025,3.0300000000000002,3.035,3.04,3.045,3.05,3.055,3.06,3.065,3.0700000000000003,3.075,3.08,3.085,3.09,3.0949999999999998,3.1,3.105,3.11,3.115,3.12,3.125,3.13,3.135,3.14,3.145,3.15,3.1550000000000002,3.16,3.165,3.17,3.175,3.18,3.185,3.19,3.1950000000000003,3.2,3.205,3.21,3.215,3.2199999999999998,3.225,3.23,3.235,3.24,3.245,3.25,3.255,3.26,3.265,3.27,3.275,3.2800000000000002,3.285,3.29,3.295,3.3,3.305,3.31,3.315,3.3200000000000003,3.325,3.33,3.335,3.34,3.3449999999999998,3.35,3.355,3.3600000000000003,3.365,3.37,3.375,3.38,3.3850000000000002,3.39,3.395,3.4000000000000004,3.4050000000000002,3.41,3.415,3.42,3.425,3.43,3.435,3.4400000000000004,3.4450000000000003,3.45,3.455,3.46,3.465,3.47,3.475,3.4800000000000004,3.4850000000000003,3.49,3.495,3.5,3.505,3.5100000000000002,3.515,3.5200000000000005,3.5250000000000004,3.5300000000000002,3.535,3.54,3.545,3.55,3.555,3.56,3.5650000000000004,3.5700000000000003,3.575,3.58,3.585,3.59,3.595,3.6,3.6050000000000004,3.6100000000000003,3.615,3.62,3.625,3.63,3.6350000000000002,3.64,3.6450000000000005,3.6500000000000004,3.6550000000000002,3.66,3.665,3.67,3.675,3.68,3.685,3.6900000000000004,3.6950000000000003,3.7,3.705,3.71,3.715,3.72,3.725,3.7300000000000004,3.7350000000000003,3.74,3.745,3.75,3.755,3.7600000000000002,3.765,3.7700000000000005,3.7750000000000004,3.7800000000000002,3.785,3.79,3.795,3.8,3.805,3.81,3.8150000000000004,3.8200000000000003,3.825,3.83,3.835,3.84,3.845,3.85,3.8550000000000004,3.8600000000000003,3.865,3.87,3.875,3.88,3.8850000000000002,3.89,3.8950000000000005,3.9000000000000004,3.9050000000000002,3.91,3.915,3.92,3.925,3.93,3.935,3.9400000000000004,3.9450000000000003,3.95,3.955,3.96,3.965,3.97,3.975,3.9800000000000004,3.9850000000000003,3.99,3.995,4.0,4.005,4.01,4.015000000000001,4.0200000000000005,4.025,4.03,4.035,4.04,4.045,4.05,4.055,4.0600000000000005,4.065,4.07,4.075,4.08,4.085,4.09,4.095000000000001,4.1,4.105,4.11,4.115,4.12,4.125,4.13,4.135,4.140000000000001,4.1450000000000005,4.15,4.155,4.16,4.165,4.17,4.175,4.18,4.1850000000000005,4.19,4.195,4.2,4.205,4.21,4.215,4.220000000000001,4.225,4.23,4.235,4.24,4.245,4.25,4.255,4.26,4.265000000000001,4.2700000000000005,4.275,4.28,4.285,4.29,4.295,4.3,4.305,4.3100000000000005,4.315,4.32,4.325,4.33,4.335000000000001,4.34,4.345000000000001,4.3500000000000005,4.355,4.36,4.365,4.37,4.375,4.380000000000001,4.385000000000001,4.390000000000001,4.3950000000000005,4.4,4.405,4.41,4.415000000000001,4.42,4.425000000000001,4.43,4.4350000000000005,4.44,4.445,4.45,4.455,4.460000000000001,4.465,4.470000000000001,4.4750000000000005,4.48,4.485,4.49,4.495000000000001,4.5,4.505000000000001,4.51,4.515000000000001,4.5200000000000005,4.525,4.53,4.535,4.540000000000001,4.545,4.550000000000001,4.555,4.5600000000000005,4.565,4.57,4.575,4.58,4.585000000000001,4.59,4.595000000000001,4.6000000000000005,4.605,4.61,4.615,4.620000000000001,4.625,4.630000000000001,4.635,4.640000000000001,4.6450000000000005,4.65,4.655,4.66,4.665000000000001,4.67,4.675000000000001,4.68,4.6850000000000005,4.69,4.695,4.7,4.705,4.710000000000001,4.715,4.720000000000001,4.7250000000000005,4.73,4.735,4.74,4.745000000000001,4.75,4.755000000000001,4.76,4.765000000000001,4.7700000000000005,4.775,4.78,4.785,4.790000000000001,4.795,4.800000000000001,4.805,4.8100000000000005,4.815,4.82,4.825,4.83,4.835000000000001,4.84,4.845000000000001,4.8500000000000005,4.855,4.86,4.865,4.870000000000001,4.875,4.880000000000001,4.885,4.890000000000001,4.8950000000000005],\"xaxis\":\"x\",\"y\":[0.262420584595036,0.2663164734078062,0.27021852694023124,0.2741258493836097,0.2780375496790765,0.2819527419882462,0.2858705461292633,0.2897900879777043,0.29371049983190833,0.29763092074245395,0.30155049680561913,0.3054683814208173,0.30938373551213444,0.31329572771421793,0.317203534522922,0.32110634041122826,0.3250033379111153,0.3288937276621613,0.332776718427797,0.3366515270802568,0.34051737855538755,0.3443735057785867,0.3482191495632623,0.35205355848330405,0.3558759887211492,0.35968570389313864,0.3634819748539211,0.36726407948175777,0.3710313024466467,0.374782934963261,0.3785182745307277,0.382236624661354,0.3859372946004263,0.3896195990392462,0.39328285782360206,0.39692639565986854,0.40054954182095853,0.4041516298543313,0.40773199729426013,0.4112899853805408,0.41482493878579596,0.4183362053534934,0.4218231358487524,0.4252850837239639,0.42872140490118077,0.4321314575731767,0.4355146020249942,0.4388702004777132,0.4421976169560897,0.4454962171816183,0.4487653684924662,0.45200443979161575,0.45521280152445687,0.45838982568692216,0.46153488586517327,0.4646473573076838,0.4677266170304621,0.47077204395600736,0.47378301908646747,0.4767589257113249,0.4796991496497964,0.48260307952799597,0.48547010709077426,0.48829962754799766,0.4910910399548929,0.4938437476259594,0.49655715858179106,0.4992306860280354,0.5018637488655708,0.5044557722308651,0.5070061880653516,0.5095144357125199,0.5119799625413406,0.5144022245944816,0.5167806872597133,0.5191148259627639,0.5214041268798119,0.5236480876677082,0.5258462182099267,0.527998041376192,0.5301030937936345,0.5321609266272846,0.5341711063676539,0.5361332156231094,0.5380468539146978,0.5399116384710664,0.5417272050210854,0.5434932085817689,0.5452093242390905,0.5468752479192784,0.5484906971481999,0.55005541179644,0.5515691548077349,0.5530317129084128,0.5544428972955768,0.5558025443017738,0.5571105160339735,0.558366700984728,0.5595710146134526,0.5607233998958425,0.5618238278395219,0.5628722979640988,0.5638688387438915,0.5648135080117014,0.5657063933220754,0.5665476122726405,0.5673373127821735,0.568075673324193,0.5687629031149705,0.5693992422549792,0.5699849618229055,0.5705203639214864,0.5710057816745441,0.5714415791747169,0.5718281513815142,0.5721659239694383,0.5724553531260491,0.5726969252999653,0.5728911568989175,0.5730385939381013,0.5731398116391783,0.5731954139804133,0.5732060331985329,0.5731723292430212,0.5730949891836576,0.5729747265722331,0.5728122807594643,0.5726084161682423,0.5723639215244313,0.5720796090465436,0.5717563135956921,0.5713948917873112,0.5709962210662146,0.5705611987466337,0.5700907410189471,0.569585781924888,0.569047272303053,0.5684761787066197,0.5678734822952065,0.5672401777028655,0.5665772718842346,0.5658857829409129,0.5651667389301448,0.5644211766579352,0.5636501404587265,0.5628546809637877,0.5620358538604759,0.5611947186445362,0.5603323373675999,0.5594497733820463,0.5585480900853809,0.5576283496662626,0.5566916118543145,0.5557389326758029,0.5547713632172799,0.5537899483992219,0.5527957257616897,0.5517897242639844,0.5507729631002454,0.5497464505328873,0.5487111827457289,0.5476681427186245,0.5466182991253526,0.5455626052564616,0.5445019979687292,0.5434373966628165,0.5423697022906557,0.5412997963940356,0.5402285401757929,0.5391567736049546,0.5380853145570986,0.5370149579911433,0.535946475163707,0.5348806128820948,0.5338180927969185,0.5327596107352646,0.5317058360752595,0.530657411162817,0.5296149507712479,0.5285790416043785,0.5275502418437062,0.5265290807400758,0.5255160582502639,0.5245116447187914,0.5235162806051973,0.5225303762569462,0.5215543117280376,0.5205884366433371,0.5196330701085453,0.5186885006656645,0.5177549862937273,0.5168327544544911,0.5159220021827111,0.5150228962205399,0.5141355731955165,0.5132601398415444,0.5123966732621704,0.5115452212354156,0.5107058025593292,0.5098784074373685,0.5090629979026384,0.5082595082799534,0.507467845684621,0.506687890556776,0.5059194972300383,0.5051624945331931,0.5044166864235478,0.503681852650548,0.5029577494481887,0.5022441102546986,0.5015406464579322,0.5008470481648419,0.5001629849933761,0.4994881068850935,0.4988220449367508,0.498164412249087,0.49751480479098226,0.49687280227717634,0.49623796905764866,0.4956098550168096,0.49498799648057396,0.49437191712942496,0.49376112891552953,0.4931551329819908,0.4925534205823078,0.4919554739981249,0.491360767453357,0.49076876802280234,0.4901789365333593,0.48959072845600293,0.48900359478669025,0.4884169829144135,0.4878303374746494,0.48724310118649267,0.48665471567182594,0.4860646222549105,0.4854722627408633,0.4848770801715238,0.48427851955730666,0.48367602858368325,0.48306905829103247,0.48245706372666564,0.4818395045679222,0.48121584571531845,0.480585557854825,0.47994811798843684,0.4793030099323065,0.47864972478180723,0.4779877613429893,0.4773166265300167,0.4766358357282567,0.475944913122817,0.4752433919924391,0.47453081496875255,0.473806734261023,0.4730707118466309,0.4723223196276283,0.47156113955384527,0.4707867637131074,0.4699987943892618,0.4691968440887905,0.46838053553692094,0.4675495016442256,0.46670338544482254,0.465841840007368,0.46496452832014745,0.46407112315164,0.463161306888032,0.4622347713492354,0.4612912175850336,0.46033035565306085,0.4593519043803732,0.45835559111044544,0.45734115143746124,0.4563083289298273,0.4552568748448737,0.4541865478367328,0.45309711365942607,0.4519883448671905,0.4508600205140995,0.4497119258550288,0.44854385205001923,0.4473555958740617,0.44614695943433047,0.4449177498968393,0.4436677792244731,0.44239686392829963,0.4411048248340087,0.4397914868652726,0.43845667884574757,0.4371002333213681,0.435721986404495,0.4343217776413994,0.4328994499044523,0.431454849310311,0.4299878251652605,0.42849822993876846,0.426985919266191,0.42545075198143567,0.4238925901802684,0.4223112993148055,0.4207067483196108,0.4190788097696617,0.4174273600703194,0.41575227967928147,0.4140534533603625,0.41233077046878613,0.41058412526753885,0.40881341727417797,0.4070185516373437,0.405199439542083,0.40335599864293964,0.4014881535236411,0.39959583618205163,0.39767898653895156,0.3957375529690567,0.393771492852565,0.3917807731454178,0.38976537096632047,0.38772527419848457,0.3856604821039388,0.3835710059481658,0.3814568696327381,0.3793181103335471,0.3771547791421523,0.37496694170771083,0.3727546788769066,0.37051808732925223,0.3682572802050995,0.36597238772368157,0.3636635577884947,0.3613309565773231,0.3589747691142235,0.3565951998208042,0.35419247304415896,0.351766833558864,0.3493185470404893,0.34684790050813796,0.3443552027336009,0.34184078461478956,0.3393049995112012,0.33674822353926814,0.33417085582556116,0.3315733187159082,0.32895605793864746,0.3263195427203362,0.3236642658523949,0.3209907437073053,0.3182995162031361,0.31559114671532124,0.31286622193478675,0.31012535167169336,0.307369168604214,0.3045983279719636,0.3018135072138645,0.299015405550401,0.29620474351041876,0.29338226240278686,0.2905487237334254,0.28770490856838454,0.2848516168438455,0.28198966662406394,0.27911989330848674,0.27624314878941514,0.2733603005617531,0.2704722307865664,0.26757983531029533,0.2646840226416491,0.26178571288832425,0.2588858366558481,0.25598533391095357,0.2530851528120335,0.25018624850932525,0.24728958191756484,0.24439611846397716,0.2415068268145169,0.23862267758137023,0.23574464201479056,0.23287369068238833,0.23001079213903658,0.22715691159060236,0.2243130095547203,0.2214800405218399,0.21865895161979423,0.2158506812850978,0.21305615794420324,0.21027629870787176,0.207512008081809,0.2047641766966531,0.2020336800603233,0.19932137733572097,0.19662811014662868,0.1939547014146228,0.19130195422969046,0.18867065075714937,0.18606155118334766,0.18347539270252314,0.1809128885470605,0.1783747270632525,0.17586157083455986,0.17337405585419788,0.17091279074874105,0.16847835605430111,0.16607130354666566,0.16369215562663583,0.16134140476164552,0.15901951298459985,0.15672691145066972,0.15446400005268462,0.15223114709554003,0.15002868902992347,0.14785693024548727,0.14571614292344076,0.1436065669483844,0.14152840987905235,0.13948184697750052,0.13746702129609603,0.13548404382156753,0.1335329936752114,0.1316139183682224,0.12972683411100527,0.12787172617518205,0.1260485493069237,0.1242572281900861,0.1224976579575802,0.12076970474925727,0.11907320631454073,0.1174079726579322,0.11577378672545494,0.11417040513002003,0.11259755891364388,0.11105495434440041,0.10954227374591582,0.10805917635721396,0.10660529922064707,0.10518025809564642,0.1037836483959992,0.10241504614834174,0.10107400896955794,0.09976007706076682,0.09847277421560073,0.09721160884046387,0.09597607498451032,0.0947656533770785,0.09357981247035946,0.09241800948511246,0.09127969145727027,0.09016429628333429,0.08907125376248988,0.08799998663344695,0.08694991160403813,0.08592044037169537,0.08491098063296683,0.08392093708030837,0.08294971238445721,0.08199670816075386,0.08106132591786461,0.08014296798741426,0.07924103843313583,0.07835494393819577,0.0774840946694535,0.0766279051174789,0.07578579491123545,0.07495718960641473,0.07414152144648724,0.07333823009561788,0.07254676334266369,0.07176657777555999,0.07099713942547399,0.07023792438017849,0.06948841936618175,0.068748122299214,0.0680165428027552,0.06729320269434681,0.0665776364395169,0.06586939157319607,0.06516802908858785,0.06447312379350754,0.06378426463427203,0.06310105498728383,0.06242311291850769,0.061750071411099644,0.061081578561495486,0.06041729774432687,0.05975690774657213,0.059100102871406685,0.0584465930122572,0.05779610369760693,0.05714837610714511,0.056503167059883834,0.05586024897491328,0.05521940980548787,0.05458045294717957,0.05394319712085416,0.0533074762312634,0.05267313920206513,0.05204004978810557,0.05140808636583083,0.05077714170269686,0.05014712270648076],\"yaxis\":\"y\",\"type\":\"scatter\"},{\"legendgroup\":\"Earthquake Magnitude\",\"marker\":{\"color\":\"rgb(31, 119, 180)\",\"symbol\":\"line-ns-open\"},\"mode\":\"markers\",\"name\":\"Earthquake Magnitude\",\"showlegend\":false,\"x\":[3.5,3.9,4.5,4.1,4.2,3.4,3.3,3.7,4.2,4.7,3.8,3.7,3.2,3.0,3.8,2.8,2.5,3.5,2.9,2.8,2.7,2.6,2.6,2.4,3.1,2.5,2.9,3.1,3.1,3.4,3.0,4.2,3.6,3.3,3.0,3.9,3.6,4.9,3.3,3.2,3.1,2.7,3.6,3.3,4.1,3.9,2.4,3.0,2.9,2.7,2.4,4.1,2.8,2.5,3.9,3.5,3.7,3.6,2.9,2.7,2.9,2.9,3.9,3.3,4.2,3.1,3.7,4.1],\"xaxis\":\"x\",\"y\":[\"Earthquake Magnitude\",\"Earthquake Magnitude\",\"Earthquake Magnitude\",\"Earthquake Magnitude\",\"Earthquake Magnitude\",\"Earthquake Magnitude\",\"Earthquake Magnitude\",\"Earthquake Magnitude\",\"Earthquake Magnitude\",\"Earthquake Magnitude\",\"Earthquake Magnitude\",\"Earthquake Magnitude\",\"Earthquake Magnitude\",\"Earthquake Magnitude\",\"Earthquake Magnitude\",\"Earthquake Magnitude\",\"Earthquake Magnitude\",\"Earthquake Magnitude\",\"Earthquake Magnitude\",\"Earthquake Magnitude\",\"Earthquake Magnitude\",\"Earthquake Magnitude\",\"Earthquake Magnitude\",\"Earthquake Magnitude\",\"Earthquake Magnitude\",\"Earthquake Magnitude\",\"Earthquake Magnitude\",\"Earthquake Magnitude\",\"Earthquake Magnitude\",\"Earthquake Magnitude\",\"Earthquake Magnitude\",\"Earthquake Magnitude\",\"Earthquake Magnitude\",\"Earthquake Magnitude\",\"Earthquake Magnitude\",\"Earthquake Magnitude\",\"Earthquake Magnitude\",\"Earthquake Magnitude\",\"Earthquake Magnitude\",\"Earthquake Magnitude\",\"Earthquake Magnitude\",\"Earthquake Magnitude\",\"Earthquake Magnitude\",\"Earthquake Magnitude\",\"Earthquake Magnitude\",\"Earthquake Magnitude\",\"Earthquake Magnitude\",\"Earthquake Magnitude\",\"Earthquake Magnitude\",\"Earthquake Magnitude\",\"Earthquake Magnitude\",\"Earthquake Magnitude\",\"Earthquake Magnitude\",\"Earthquake Magnitude\",\"Earthquake Magnitude\",\"Earthquake Magnitude\",\"Earthquake Magnitude\",\"Earthquake Magnitude\",\"Earthquake Magnitude\",\"Earthquake Magnitude\",\"Earthquake Magnitude\",\"Earthquake Magnitude\",\"Earthquake Magnitude\",\"Earthquake Magnitude\",\"Earthquake Magnitude\",\"Earthquake Magnitude\",\"Earthquake Magnitude\",\"Earthquake Magnitude\"],\"yaxis\":\"y2\",\"type\":\"scatter\"}],                        {\"barmode\":\"overlay\",\"hovermode\":\"closest\",\"legend\":{\"traceorder\":\"reversed\"},\"xaxis\":{\"anchor\":\"y2\",\"domain\":[0.0,1.0],\"zeroline\":false},\"yaxis\":{\"anchor\":\"free\",\"domain\":[0.35,1],\"position\":0.0},\"yaxis2\":{\"anchor\":\"x\",\"domain\":[0,0.25],\"dtick\":1,\"showticklabels\":false},\"template\":{\"data\":{\"histogram2dcontour\":[{\"type\":\"histogram2dcontour\",\"colorbar\":{\"outlinewidth\":0,\"ticks\":\"\"},\"colorscale\":[[0.0,\"#0d0887\"],[0.1111111111111111,\"#46039f\"],[0.2222222222222222,\"#7201a8\"],[0.3333333333333333,\"#9c179e\"],[0.4444444444444444,\"#bd3786\"],[0.5555555555555556,\"#d8576b\"],[0.6666666666666666,\"#ed7953\"],[0.7777777777777778,\"#fb9f3a\"],[0.8888888888888888,\"#fdca26\"],[1.0,\"#f0f921\"]]}],\"choropleth\":[{\"type\":\"choropleth\",\"colorbar\":{\"outlinewidth\":0,\"ticks\":\"\"}}],\"histogram2d\":[{\"type\":\"histogram2d\",\"colorbar\":{\"outlinewidth\":0,\"ticks\":\"\"},\"colorscale\":[[0.0,\"#0d0887\"],[0.1111111111111111,\"#46039f\"],[0.2222222222222222,\"#7201a8\"],[0.3333333333333333,\"#9c179e\"],[0.4444444444444444,\"#bd3786\"],[0.5555555555555556,\"#d8576b\"],[0.6666666666666666,\"#ed7953\"],[0.7777777777777778,\"#fb9f3a\"],[0.8888888888888888,\"#fdca26\"],[1.0,\"#f0f921\"]]}],\"heatmap\":[{\"type\":\"heatmap\",\"colorbar\":{\"outlinewidth\":0,\"ticks\":\"\"},\"colorscale\":[[0.0,\"#0d0887\"],[0.1111111111111111,\"#46039f\"],[0.2222222222222222,\"#7201a8\"],[0.3333333333333333,\"#9c179e\"],[0.4444444444444444,\"#bd3786\"],[0.5555555555555556,\"#d8576b\"],[0.6666666666666666,\"#ed7953\"],[0.7777777777777778,\"#fb9f3a\"],[0.8888888888888888,\"#fdca26\"],[1.0,\"#f0f921\"]]}],\"heatmapgl\":[{\"type\":\"heatmapgl\",\"colorbar\":{\"outlinewidth\":0,\"ticks\":\"\"},\"colorscale\":[[0.0,\"#0d0887\"],[0.1111111111111111,\"#46039f\"],[0.2222222222222222,\"#7201a8\"],[0.3333333333333333,\"#9c179e\"],[0.4444444444444444,\"#bd3786\"],[0.5555555555555556,\"#d8576b\"],[0.6666666666666666,\"#ed7953\"],[0.7777777777777778,\"#fb9f3a\"],[0.8888888888888888,\"#fdca26\"],[1.0,\"#f0f921\"]]}],\"contourcarpet\":[{\"type\":\"contourcarpet\",\"colorbar\":{\"outlinewidth\":0,\"ticks\":\"\"}}],\"contour\":[{\"type\":\"contour\",\"colorbar\":{\"outlinewidth\":0,\"ticks\":\"\"},\"colorscale\":[[0.0,\"#0d0887\"],[0.1111111111111111,\"#46039f\"],[0.2222222222222222,\"#7201a8\"],[0.3333333333333333,\"#9c179e\"],[0.4444444444444444,\"#bd3786\"],[0.5555555555555556,\"#d8576b\"],[0.6666666666666666,\"#ed7953\"],[0.7777777777777778,\"#fb9f3a\"],[0.8888888888888888,\"#fdca26\"],[1.0,\"#f0f921\"]]}],\"surface\":[{\"type\":\"surface\",\"colorbar\":{\"outlinewidth\":0,\"ticks\":\"\"},\"colorscale\":[[0.0,\"#0d0887\"],[0.1111111111111111,\"#46039f\"],[0.2222222222222222,\"#7201a8\"],[0.3333333333333333,\"#9c179e\"],[0.4444444444444444,\"#bd3786\"],[0.5555555555555556,\"#d8576b\"],[0.6666666666666666,\"#ed7953\"],[0.7777777777777778,\"#fb9f3a\"],[0.8888888888888888,\"#fdca26\"],[1.0,\"#f0f921\"]]}],\"mesh3d\":[{\"type\":\"mesh3d\",\"colorbar\":{\"outlinewidth\":0,\"ticks\":\"\"}}],\"scatter\":[{\"fillpattern\":{\"fillmode\":\"overlay\",\"size\":10,\"solidity\":0.2},\"type\":\"scatter\"}],\"parcoords\":[{\"type\":\"parcoords\",\"line\":{\"colorbar\":{\"outlinewidth\":0,\"ticks\":\"\"}}}],\"scatterpolargl\":[{\"type\":\"scatterpolargl\",\"marker\":{\"colorbar\":{\"outlinewidth\":0,\"ticks\":\"\"}}}],\"bar\":[{\"error_x\":{\"color\":\"#2a3f5f\"},\"error_y\":{\"color\":\"#2a3f5f\"},\"marker\":{\"line\":{\"color\":\"#E5ECF6\",\"width\":0.5},\"pattern\":{\"fillmode\":\"overlay\",\"size\":10,\"solidity\":0.2}},\"type\":\"bar\"}],\"scattergeo\":[{\"type\":\"scattergeo\",\"marker\":{\"colorbar\":{\"outlinewidth\":0,\"ticks\":\"\"}}}],\"scatterpolar\":[{\"type\":\"scatterpolar\",\"marker\":{\"colorbar\":{\"outlinewidth\":0,\"ticks\":\"\"}}}],\"histogram\":[{\"marker\":{\"pattern\":{\"fillmode\":\"overlay\",\"size\":10,\"solidity\":0.2}},\"type\":\"histogram\"}],\"scattergl\":[{\"type\":\"scattergl\",\"marker\":{\"colorbar\":{\"outlinewidth\":0,\"ticks\":\"\"}}}],\"scatter3d\":[{\"type\":\"scatter3d\",\"line\":{\"colorbar\":{\"outlinewidth\":0,\"ticks\":\"\"}},\"marker\":{\"colorbar\":{\"outlinewidth\":0,\"ticks\":\"\"}}}],\"scattermapbox\":[{\"type\":\"scattermapbox\",\"marker\":{\"colorbar\":{\"outlinewidth\":0,\"ticks\":\"\"}}}],\"scatterternary\":[{\"type\":\"scatterternary\",\"marker\":{\"colorbar\":{\"outlinewidth\":0,\"ticks\":\"\"}}}],\"scattercarpet\":[{\"type\":\"scattercarpet\",\"marker\":{\"colorbar\":{\"outlinewidth\":0,\"ticks\":\"\"}}}],\"carpet\":[{\"aaxis\":{\"endlinecolor\":\"#2a3f5f\",\"gridcolor\":\"white\",\"linecolor\":\"white\",\"minorgridcolor\":\"white\",\"startlinecolor\":\"#2a3f5f\"},\"baxis\":{\"endlinecolor\":\"#2a3f5f\",\"gridcolor\":\"white\",\"linecolor\":\"white\",\"minorgridcolor\":\"white\",\"startlinecolor\":\"#2a3f5f\"},\"type\":\"carpet\"}],\"table\":[{\"cells\":{\"fill\":{\"color\":\"#EBF0F8\"},\"line\":{\"color\":\"white\"}},\"header\":{\"fill\":{\"color\":\"#C8D4E3\"},\"line\":{\"color\":\"white\"}},\"type\":\"table\"}],\"barpolar\":[{\"marker\":{\"line\":{\"color\":\"#E5ECF6\",\"width\":0.5},\"pattern\":{\"fillmode\":\"overlay\",\"size\":10,\"solidity\":0.2}},\"type\":\"barpolar\"}],\"pie\":[{\"automargin\":true,\"type\":\"pie\"}]},\"layout\":{\"autotypenumbers\":\"strict\",\"colorway\":[\"#636efa\",\"#EF553B\",\"#00cc96\",\"#ab63fa\",\"#FFA15A\",\"#19d3f3\",\"#FF6692\",\"#B6E880\",\"#FF97FF\",\"#FECB52\"],\"font\":{\"color\":\"#2a3f5f\"},\"hovermode\":\"closest\",\"hoverlabel\":{\"align\":\"left\"},\"paper_bgcolor\":\"white\",\"plot_bgcolor\":\"#E5ECF6\",\"polar\":{\"bgcolor\":\"#E5ECF6\",\"angularaxis\":{\"gridcolor\":\"white\",\"linecolor\":\"white\",\"ticks\":\"\"},\"radialaxis\":{\"gridcolor\":\"white\",\"linecolor\":\"white\",\"ticks\":\"\"}},\"ternary\":{\"bgcolor\":\"#E5ECF6\",\"aaxis\":{\"gridcolor\":\"white\",\"linecolor\":\"white\",\"ticks\":\"\"},\"baxis\":{\"gridcolor\":\"white\",\"linecolor\":\"white\",\"ticks\":\"\"},\"caxis\":{\"gridcolor\":\"white\",\"linecolor\":\"white\",\"ticks\":\"\"}},\"coloraxis\":{\"colorbar\":{\"outlinewidth\":0,\"ticks\":\"\"}},\"colorscale\":{\"sequential\":[[0.0,\"#0d0887\"],[0.1111111111111111,\"#46039f\"],[0.2222222222222222,\"#7201a8\"],[0.3333333333333333,\"#9c179e\"],[0.4444444444444444,\"#bd3786\"],[0.5555555555555556,\"#d8576b\"],[0.6666666666666666,\"#ed7953\"],[0.7777777777777778,\"#fb9f3a\"],[0.8888888888888888,\"#fdca26\"],[1.0,\"#f0f921\"]],\"sequentialminus\":[[0.0,\"#0d0887\"],[0.1111111111111111,\"#46039f\"],[0.2222222222222222,\"#7201a8\"],[0.3333333333333333,\"#9c179e\"],[0.4444444444444444,\"#bd3786\"],[0.5555555555555556,\"#d8576b\"],[0.6666666666666666,\"#ed7953\"],[0.7777777777777778,\"#fb9f3a\"],[0.8888888888888888,\"#fdca26\"],[1.0,\"#f0f921\"]],\"diverging\":[[0,\"#8e0152\"],[0.1,\"#c51b7d\"],[0.2,\"#de77ae\"],[0.3,\"#f1b6da\"],[0.4,\"#fde0ef\"],[0.5,\"#f7f7f7\"],[0.6,\"#e6f5d0\"],[0.7,\"#b8e186\"],[0.8,\"#7fbc41\"],[0.9,\"#4d9221\"],[1,\"#276419\"]]},\"xaxis\":{\"gridcolor\":\"white\",\"linecolor\":\"white\",\"ticks\":\"\",\"title\":{\"standoff\":15},\"zerolinecolor\":\"white\",\"automargin\":true,\"zerolinewidth\":2},\"yaxis\":{\"gridcolor\":\"white\",\"linecolor\":\"white\",\"ticks\":\"\",\"title\":{\"standoff\":15},\"zerolinecolor\":\"white\",\"automargin\":true,\"zerolinewidth\":2},\"scene\":{\"xaxis\":{\"backgroundcolor\":\"#E5ECF6\",\"gridcolor\":\"white\",\"linecolor\":\"white\",\"showbackground\":true,\"ticks\":\"\",\"zerolinecolor\":\"white\",\"gridwidth\":2},\"yaxis\":{\"backgroundcolor\":\"#E5ECF6\",\"gridcolor\":\"white\",\"linecolor\":\"white\",\"showbackground\":true,\"ticks\":\"\",\"zerolinecolor\":\"white\",\"gridwidth\":2},\"zaxis\":{\"backgroundcolor\":\"#E5ECF6\",\"gridcolor\":\"white\",\"linecolor\":\"white\",\"showbackground\":true,\"ticks\":\"\",\"zerolinecolor\":\"white\",\"gridwidth\":2}},\"shapedefaults\":{\"line\":{\"color\":\"#2a3f5f\"}},\"annotationdefaults\":{\"arrowcolor\":\"#2a3f5f\",\"arrowhead\":0,\"arrowwidth\":1},\"geo\":{\"bgcolor\":\"white\",\"landcolor\":\"#E5ECF6\",\"subunitcolor\":\"white\",\"showland\":true,\"showlakes\":true,\"lakecolor\":\"white\"},\"title\":{\"x\":0.05},\"mapbox\":{\"style\":\"light\"}}}},                        {\"responsive\": true}                    ).then(function(){\n",
       "                            \n",
       "var gd = document.getElementById('0dbaf975-f303-4cd8-99d3-ef90cfbf5538');\n",
       "var x = new MutationObserver(function (mutations, observer) {{\n",
       "        var display = window.getComputedStyle(gd).display;\n",
       "        if (!display || display === 'none') {{\n",
       "            console.log([gd, 'removed!']);\n",
       "            Plotly.purge(gd);\n",
       "            observer.disconnect();\n",
       "        }}\n",
       "}});\n",
       "\n",
       "// Listen for the removal of the full notebook cells\n",
       "var notebookContainer = gd.closest('#notebook-container');\n",
       "if (notebookContainer) {{\n",
       "    x.observe(notebookContainer, {childList: true});\n",
       "}}\n",
       "\n",
       "// Listen for the clearing of the current output cell\n",
       "var outputEl = gd.closest('.output');\n",
       "if (outputEl) {{\n",
       "    x.observe(outputEl, {childList: true});\n",
       "}}\n",
       "\n",
       "                        })                };                });            </script>        </div>"
      ]
     },
     "metadata": {},
     "output_type": "display_data"
    }
   ],
   "source": [
    "import plotly.figure_factory as ff\n",
    "fig = ff.create_distplot([df['Mag']], ['Earthquake Magnitude'])\n",
    "fig.show()"
   ]
  },
  {
   "cell_type": "markdown",
   "metadata": {
    "id": "RSOp_JzVMMXi"
   },
   "source": [
    "**2. GETTING MONTH COLUMN USING DATE AND TIME**"
   ]
  },
  {
   "cell_type": "code",
   "execution_count": null,
   "metadata": {
    "id": "GyI8RjaxMV3X"
   },
   "outputs": [],
   "source": [
    "# These rows didn't have date and time in correct format\n",
    "df.drop([5956, 12450, 13192], axis =0, inplace = True)\n",
    "df.reset_index(drop = True, inplace =True)"
   ]
  },
  {
   "cell_type": "code",
   "execution_count": 56,
   "metadata": {},
   "outputs": [
    {
     "data": {
      "text/html": [
       "<div>\n",
       "<style scoped>\n",
       "    .dataframe tbody tr th:only-of-type {\n",
       "        vertical-align: middle;\n",
       "    }\n",
       "\n",
       "    .dataframe tbody tr th {\n",
       "        vertical-align: top;\n",
       "    }\n",
       "\n",
       "    .dataframe thead th {\n",
       "        text-align: right;\n",
       "    }\n",
       "</style>\n",
       "<table border=\"1\" class=\"dataframe\">\n",
       "  <thead>\n",
       "    <tr style=\"text-align: right;\">\n",
       "      <th></th>\n",
       "      <th>Year</th>\n",
       "      <th>Month</th>\n",
       "      <th>Day</th>\n",
       "      <th>Time</th>\n",
       "      <th>Lat</th>\n",
       "      <th>Lon</th>\n",
       "      <th>Depth</th>\n",
       "      <th>Mag</th>\n",
       "      <th>Timestamp</th>\n",
       "    </tr>\n",
       "  </thead>\n",
       "  <tbody>\n",
       "    <tr>\n",
       "      <th>0</th>\n",
       "      <td>2015</td>\n",
       "      <td>2</td>\n",
       "      <td>24</td>\n",
       "      <td>4:02:21</td>\n",
       "      <td>33.3949</td>\n",
       "      <td>75.0972</td>\n",
       "      <td>35.0</td>\n",
       "      <td>3.5</td>\n",
       "      <td>1424750541</td>\n",
       "    </tr>\n",
       "    <tr>\n",
       "      <th>1</th>\n",
       "      <td>2014</td>\n",
       "      <td>8</td>\n",
       "      <td>27</td>\n",
       "      <td>3:20:17</td>\n",
       "      <td>34.7169</td>\n",
       "      <td>75.1838</td>\n",
       "      <td>0.0</td>\n",
       "      <td>3.9</td>\n",
       "      <td>1409109617</td>\n",
       "    </tr>\n",
       "    <tr>\n",
       "      <th>2</th>\n",
       "      <td>2013</td>\n",
       "      <td>9</td>\n",
       "      <td>5</td>\n",
       "      <td>18:11:29</td>\n",
       "      <td>33.2323</td>\n",
       "      <td>75.3594</td>\n",
       "      <td>22.0</td>\n",
       "      <td>4.5</td>\n",
       "      <td>1378404689</td>\n",
       "    </tr>\n",
       "    <tr>\n",
       "      <th>3</th>\n",
       "      <td>2012</td>\n",
       "      <td>8</td>\n",
       "      <td>2</td>\n",
       "      <td>18:00:27</td>\n",
       "      <td>33.6959</td>\n",
       "      <td>75.2808</td>\n",
       "      <td>22.0</td>\n",
       "      <td>4.1</td>\n",
       "      <td>1343930427</td>\n",
       "    </tr>\n",
       "    <tr>\n",
       "      <th>4</th>\n",
       "      <td>2011</td>\n",
       "      <td>9</td>\n",
       "      <td>24</td>\n",
       "      <td>15:21:34</td>\n",
       "      <td>34.0753</td>\n",
       "      <td>75.1808</td>\n",
       "      <td>40.0</td>\n",
       "      <td>4.2</td>\n",
       "      <td>1316877694</td>\n",
       "    </tr>\n",
       "  </tbody>\n",
       "</table>\n",
       "</div>"
      ],
      "text/plain": [
       "   Year  Month  Day      Time      Lat      Lon  Depth  Mag   Timestamp\n",
       "0  2015      2   24   4:02:21  33.3949  75.0972   35.0  3.5  1424750541\n",
       "1  2014      8   27   3:20:17  34.7169  75.1838    0.0  3.9  1409109617\n",
       "2  2013      9    5  18:11:29  33.2323  75.3594   22.0  4.5  1378404689\n",
       "3  2012      8    2  18:00:27  33.6959  75.2808   22.0  4.1  1343930427\n",
       "4  2011      9   24  15:21:34  34.0753  75.1808   40.0  4.2  1316877694"
      ]
     },
     "execution_count": 56,
     "metadata": {},
     "output_type": "execute_result"
    }
   ],
   "source": [
    "df.head()"
   ]
  },
  {
   "cell_type": "code",
   "execution_count": null,
   "metadata": {
    "id": "yq2h5DsiMeWH"
   },
   "outputs": [],
   "source": [
    "# Python program to create MONTH column\n",
    "import datetime\n",
    "def month(df):\n",
    "    for index, row in df.iterrows():\n",
    "        datem = datetime.datetime.strptime(row['DateTime'], \"%m/%d/%Y %H:%M:%S\")\n",
    "        df.at[index, 'Month'] = datem.strftime(\"%B\")\n",
    "    return df"
   ]
  },
  {
   "cell_type": "code",
   "execution_count": null,
   "metadata": {
    "colab": {
     "base_uri": "https://localhost:8080/",
     "height": 250
    },
    "id": "PrHqhVYjMrGw",
    "outputId": "cc30d00b-8b1b-4744-82c8-b5422c7e2c49"
   },
   "outputs": [
    {
     "data": {
      "text/html": [
       "\n",
       "  <div id=\"df-2db5a31e-05cf-4dc1-8ba5-0c3a025f82ff\">\n",
       "    <div class=\"colab-df-container\">\n",
       "      <div>\n",
       "<style scoped>\n",
       "    .dataframe tbody tr th:only-of-type {\n",
       "        vertical-align: middle;\n",
       "    }\n",
       "\n",
       "    .dataframe tbody tr th {\n",
       "        vertical-align: top;\n",
       "    }\n",
       "\n",
       "    .dataframe thead th {\n",
       "        text-align: right;\n",
       "    }\n",
       "</style>\n",
       "<table border=\"1\" class=\"dataframe\">\n",
       "  <thead>\n",
       "    <tr style=\"text-align: right;\">\n",
       "      <th></th>\n",
       "      <th>Date</th>\n",
       "      <th>Time</th>\n",
       "      <th>Latitude</th>\n",
       "      <th>Longitude</th>\n",
       "      <th>Depth</th>\n",
       "      <th>Magnitude</th>\n",
       "      <th>ID</th>\n",
       "      <th>Country</th>\n",
       "      <th>Name</th>\n",
       "      <th>DateTime</th>\n",
       "      <th>Month</th>\n",
       "    </tr>\n",
       "  </thead>\n",
       "  <tbody>\n",
       "    <tr>\n",
       "      <th>23224</th>\n",
       "      <td>01/12/2010</td>\n",
       "      <td>22:12:05</td>\n",
       "      <td>18.452</td>\n",
       "      <td>-72.513</td>\n",
       "      <td>10.0</td>\n",
       "      <td>5.7</td>\n",
       "      <td>USP000H60N</td>\n",
       "      <td>HT</td>\n",
       "      <td>Haiti</td>\n",
       "      <td>01/12/2010 22:12:05</td>\n",
       "      <td>January</td>\n",
       "    </tr>\n",
       "    <tr>\n",
       "      <th>23225</th>\n",
       "      <td>01/13/2010</td>\n",
       "      <td>01:32:44</td>\n",
       "      <td>18.420</td>\n",
       "      <td>-72.861</td>\n",
       "      <td>10.0</td>\n",
       "      <td>5.6</td>\n",
       "      <td>USP000H61B</td>\n",
       "      <td>HT</td>\n",
       "      <td>Haiti</td>\n",
       "      <td>01/13/2010 01:32:44</td>\n",
       "      <td>January</td>\n",
       "    </tr>\n",
       "    <tr>\n",
       "      <th>23226</th>\n",
       "      <td>01/13/2010</td>\n",
       "      <td>01:36:31</td>\n",
       "      <td>18.404</td>\n",
       "      <td>-72.826</td>\n",
       "      <td>10.0</td>\n",
       "      <td>5.6</td>\n",
       "      <td>USP000H61C</td>\n",
       "      <td>HT</td>\n",
       "      <td>Haiti</td>\n",
       "      <td>01/13/2010 01:36:31</td>\n",
       "      <td>January</td>\n",
       "    </tr>\n",
       "    <tr>\n",
       "      <th>23227</th>\n",
       "      <td>01/13/2010</td>\n",
       "      <td>05:02:57</td>\n",
       "      <td>18.367</td>\n",
       "      <td>-72.903</td>\n",
       "      <td>10.0</td>\n",
       "      <td>5.8</td>\n",
       "      <td>USP000H61Z</td>\n",
       "      <td>HT</td>\n",
       "      <td>Haiti</td>\n",
       "      <td>01/13/2010 05:02:57</td>\n",
       "      <td>January</td>\n",
       "    </tr>\n",
       "    <tr>\n",
       "      <th>23228</th>\n",
       "      <td>01/20/2010</td>\n",
       "      <td>11:03:43</td>\n",
       "      <td>18.423</td>\n",
       "      <td>-72.823</td>\n",
       "      <td>10.5</td>\n",
       "      <td>5.9</td>\n",
       "      <td>USP000H6D2</td>\n",
       "      <td>HT</td>\n",
       "      <td>Haiti</td>\n",
       "      <td>01/20/2010 11:03:43</td>\n",
       "      <td>January</td>\n",
       "    </tr>\n",
       "  </tbody>\n",
       "</table>\n",
       "</div>\n",
       "      <button class=\"colab-df-convert\" onclick=\"convertToInteractive('df-2db5a31e-05cf-4dc1-8ba5-0c3a025f82ff')\"\n",
       "              title=\"Convert this dataframe to an interactive table.\"\n",
       "              style=\"display:none;\">\n",
       "        \n",
       "  <svg xmlns=\"http://www.w3.org/2000/svg\" height=\"24px\"viewBox=\"0 0 24 24\"\n",
       "       width=\"24px\">\n",
       "    <path d=\"M0 0h24v24H0V0z\" fill=\"none\"/>\n",
       "    <path d=\"M18.56 5.44l.94 2.06.94-2.06 2.06-.94-2.06-.94-.94-2.06-.94 2.06-2.06.94zm-11 1L8.5 8.5l.94-2.06 2.06-.94-2.06-.94L8.5 2.5l-.94 2.06-2.06.94zm10 10l.94 2.06.94-2.06 2.06-.94-2.06-.94-.94-2.06-.94 2.06-2.06.94z\"/><path d=\"M17.41 7.96l-1.37-1.37c-.4-.4-.92-.59-1.43-.59-.52 0-1.04.2-1.43.59L10.3 9.45l-7.72 7.72c-.78.78-.78 2.05 0 2.83L4 21.41c.39.39.9.59 1.41.59.51 0 1.02-.2 1.41-.59l7.78-7.78 2.81-2.81c.8-.78.8-2.07 0-2.86zM5.41 20L4 18.59l7.72-7.72 1.47 1.35L5.41 20z\"/>\n",
       "  </svg>\n",
       "      </button>\n",
       "      \n",
       "  <style>\n",
       "    .colab-df-container {\n",
       "      display:flex;\n",
       "      flex-wrap:wrap;\n",
       "      gap: 12px;\n",
       "    }\n",
       "\n",
       "    .colab-df-convert {\n",
       "      background-color: #E8F0FE;\n",
       "      border: none;\n",
       "      border-radius: 50%;\n",
       "      cursor: pointer;\n",
       "      display: none;\n",
       "      fill: #1967D2;\n",
       "      height: 32px;\n",
       "      padding: 0 0 0 0;\n",
       "      width: 32px;\n",
       "    }\n",
       "\n",
       "    .colab-df-convert:hover {\n",
       "      background-color: #E2EBFA;\n",
       "      box-shadow: 0px 1px 2px rgba(60, 64, 67, 0.3), 0px 1px 3px 1px rgba(60, 64, 67, 0.15);\n",
       "      fill: #174EA6;\n",
       "    }\n",
       "\n",
       "    [theme=dark] .colab-df-convert {\n",
       "      background-color: #3B4455;\n",
       "      fill: #D2E3FC;\n",
       "    }\n",
       "\n",
       "    [theme=dark] .colab-df-convert:hover {\n",
       "      background-color: #434B5C;\n",
       "      box-shadow: 0px 1px 3px 1px rgba(0, 0, 0, 0.15);\n",
       "      filter: drop-shadow(0px 1px 2px rgba(0, 0, 0, 0.3));\n",
       "      fill: #FFFFFF;\n",
       "    }\n",
       "  </style>\n",
       "\n",
       "      <script>\n",
       "        const buttonEl =\n",
       "          document.querySelector('#df-2db5a31e-05cf-4dc1-8ba5-0c3a025f82ff button.colab-df-convert');\n",
       "        buttonEl.style.display =\n",
       "          google.colab.kernel.accessAllowed ? 'block' : 'none';\n",
       "\n",
       "        async function convertToInteractive(key) {\n",
       "          const element = document.querySelector('#df-2db5a31e-05cf-4dc1-8ba5-0c3a025f82ff');\n",
       "          const dataTable =\n",
       "            await google.colab.kernel.invokeFunction('convertToInteractive',\n",
       "                                                     [key], {});\n",
       "          if (!dataTable) return;\n",
       "\n",
       "          const docLinkHtml = 'Like what you see? Visit the ' +\n",
       "            '<a target=\"_blank\" href=https://colab.research.google.com/notebooks/data_table.ipynb>data table notebook</a>'\n",
       "            + ' to learn more about interactive tables.';\n",
       "          element.innerHTML = '';\n",
       "          dataTable['output_type'] = 'display_data';\n",
       "          await google.colab.output.renderOutput(dataTable, element);\n",
       "          const docLink = document.createElement('div');\n",
       "          docLink.innerHTML = docLinkHtml;\n",
       "          element.appendChild(docLink);\n",
       "        }\n",
       "      </script>\n",
       "    </div>\n",
       "  </div>\n",
       "  "
      ],
      "text/plain": [
       "             Date      Time  Latitude  Longitude  Depth  Magnitude  \\\n",
       "23224  01/12/2010  22:12:05    18.452    -72.513   10.0        5.7   \n",
       "23225  01/13/2010  01:32:44    18.420    -72.861   10.0        5.6   \n",
       "23226  01/13/2010  01:36:31    18.404    -72.826   10.0        5.6   \n",
       "23227  01/13/2010  05:02:57    18.367    -72.903   10.0        5.8   \n",
       "23228  01/20/2010  11:03:43    18.423    -72.823   10.5        5.9   \n",
       "\n",
       "               ID Country   Name             DateTime    Month  \n",
       "23224  USP000H60N      HT  Haiti  01/12/2010 22:12:05  January  \n",
       "23225  USP000H61B      HT  Haiti  01/13/2010 01:32:44  January  \n",
       "23226  USP000H61C      HT  Haiti  01/13/2010 01:36:31  January  \n",
       "23227  USP000H61Z      HT  Haiti  01/13/2010 05:02:57  January  \n",
       "23228  USP000H6D2      HT  Haiti  01/20/2010 11:03:43  January  "
      ]
     },
     "execution_count": 80,
     "metadata": {},
     "output_type": "execute_result"
    }
   ],
   "source": [
    "df= month(df)\n",
    "df.tail()"
   ]
  },
  {
   "cell_type": "code",
   "execution_count": 41,
   "metadata": {
    "colab": {
     "base_uri": "https://localhost:8080/",
     "height": 542
    },
    "id": "adNgdDyOMw8B",
    "outputId": "20af7112-926f-43ba-dcdc-1370a81c5dd4"
   },
   "outputs": [
    {
     "data": {
      "application/vnd.plotly.v1+json": {
       "config": {
        "plotlyServerURL": "https://plot.ly"
       },
       "data": [
        {
         "alignmentgroup": "True",
         "bingroup": "x",
         "hovertemplate": "Year=%{x}<br>count=%{y}<extra></extra>",
         "legendgroup": "",
         "marker": {
          "color": "#636efa",
          "pattern": {
           "shape": ""
          }
         },
         "name": "",
         "offsetgroup": "",
         "orientation": "v",
         "showlegend": false,
         "type": "histogram",
         "x": [
          2015,
          2014,
          2013,
          2012,
          2011,
          2011,
          2011,
          2011,
          2010,
          2010,
          2010,
          2010,
          2010,
          2009,
          2008,
          2008,
          2008,
          2008,
          2008,
          2008,
          2008,
          2008,
          2008,
          2008,
          2008,
          2007,
          2006,
          2006,
          2006,
          2006,
          2006,
          2006,
          2006,
          2006,
          2005,
          2005,
          2005,
          2005,
          2005,
          2005,
          2005,
          2005,
          2005,
          2005,
          2004,
          2004,
          2003,
          2002,
          2002,
          2002,
          2002,
          2002,
          2001,
          2001,
          2000,
          2000,
          2000,
          2000,
          2000,
          2000,
          2000,
          1999,
          1999,
          1999,
          1997,
          1997,
          1981,
          1978
         ],
         "xaxis": "x",
         "yaxis": "y"
        }
       ],
       "layout": {
        "barmode": "relative",
        "legend": {
         "tracegroupgap": 0
        },
        "margin": {
         "t": 60
        },
        "template": {
         "data": {
          "bar": [
           {
            "error_x": {
             "color": "#2a3f5f"
            },
            "error_y": {
             "color": "#2a3f5f"
            },
            "marker": {
             "line": {
              "color": "#E5ECF6",
              "width": 0.5
             },
             "pattern": {
              "fillmode": "overlay",
              "size": 10,
              "solidity": 0.2
             }
            },
            "type": "bar"
           }
          ],
          "barpolar": [
           {
            "marker": {
             "line": {
              "color": "#E5ECF6",
              "width": 0.5
             },
             "pattern": {
              "fillmode": "overlay",
              "size": 10,
              "solidity": 0.2
             }
            },
            "type": "barpolar"
           }
          ],
          "carpet": [
           {
            "aaxis": {
             "endlinecolor": "#2a3f5f",
             "gridcolor": "white",
             "linecolor": "white",
             "minorgridcolor": "white",
             "startlinecolor": "#2a3f5f"
            },
            "baxis": {
             "endlinecolor": "#2a3f5f",
             "gridcolor": "white",
             "linecolor": "white",
             "minorgridcolor": "white",
             "startlinecolor": "#2a3f5f"
            },
            "type": "carpet"
           }
          ],
          "choropleth": [
           {
            "colorbar": {
             "outlinewidth": 0,
             "ticks": ""
            },
            "type": "choropleth"
           }
          ],
          "contour": [
           {
            "colorbar": {
             "outlinewidth": 0,
             "ticks": ""
            },
            "colorscale": [
             [
              0,
              "#0d0887"
             ],
             [
              0.1111111111111111,
              "#46039f"
             ],
             [
              0.2222222222222222,
              "#7201a8"
             ],
             [
              0.3333333333333333,
              "#9c179e"
             ],
             [
              0.4444444444444444,
              "#bd3786"
             ],
             [
              0.5555555555555556,
              "#d8576b"
             ],
             [
              0.6666666666666666,
              "#ed7953"
             ],
             [
              0.7777777777777778,
              "#fb9f3a"
             ],
             [
              0.8888888888888888,
              "#fdca26"
             ],
             [
              1,
              "#f0f921"
             ]
            ],
            "type": "contour"
           }
          ],
          "contourcarpet": [
           {
            "colorbar": {
             "outlinewidth": 0,
             "ticks": ""
            },
            "type": "contourcarpet"
           }
          ],
          "heatmap": [
           {
            "colorbar": {
             "outlinewidth": 0,
             "ticks": ""
            },
            "colorscale": [
             [
              0,
              "#0d0887"
             ],
             [
              0.1111111111111111,
              "#46039f"
             ],
             [
              0.2222222222222222,
              "#7201a8"
             ],
             [
              0.3333333333333333,
              "#9c179e"
             ],
             [
              0.4444444444444444,
              "#bd3786"
             ],
             [
              0.5555555555555556,
              "#d8576b"
             ],
             [
              0.6666666666666666,
              "#ed7953"
             ],
             [
              0.7777777777777778,
              "#fb9f3a"
             ],
             [
              0.8888888888888888,
              "#fdca26"
             ],
             [
              1,
              "#f0f921"
             ]
            ],
            "type": "heatmap"
           }
          ],
          "heatmapgl": [
           {
            "colorbar": {
             "outlinewidth": 0,
             "ticks": ""
            },
            "colorscale": [
             [
              0,
              "#0d0887"
             ],
             [
              0.1111111111111111,
              "#46039f"
             ],
             [
              0.2222222222222222,
              "#7201a8"
             ],
             [
              0.3333333333333333,
              "#9c179e"
             ],
             [
              0.4444444444444444,
              "#bd3786"
             ],
             [
              0.5555555555555556,
              "#d8576b"
             ],
             [
              0.6666666666666666,
              "#ed7953"
             ],
             [
              0.7777777777777778,
              "#fb9f3a"
             ],
             [
              0.8888888888888888,
              "#fdca26"
             ],
             [
              1,
              "#f0f921"
             ]
            ],
            "type": "heatmapgl"
           }
          ],
          "histogram": [
           {
            "marker": {
             "pattern": {
              "fillmode": "overlay",
              "size": 10,
              "solidity": 0.2
             }
            },
            "type": "histogram"
           }
          ],
          "histogram2d": [
           {
            "colorbar": {
             "outlinewidth": 0,
             "ticks": ""
            },
            "colorscale": [
             [
              0,
              "#0d0887"
             ],
             [
              0.1111111111111111,
              "#46039f"
             ],
             [
              0.2222222222222222,
              "#7201a8"
             ],
             [
              0.3333333333333333,
              "#9c179e"
             ],
             [
              0.4444444444444444,
              "#bd3786"
             ],
             [
              0.5555555555555556,
              "#d8576b"
             ],
             [
              0.6666666666666666,
              "#ed7953"
             ],
             [
              0.7777777777777778,
              "#fb9f3a"
             ],
             [
              0.8888888888888888,
              "#fdca26"
             ],
             [
              1,
              "#f0f921"
             ]
            ],
            "type": "histogram2d"
           }
          ],
          "histogram2dcontour": [
           {
            "colorbar": {
             "outlinewidth": 0,
             "ticks": ""
            },
            "colorscale": [
             [
              0,
              "#0d0887"
             ],
             [
              0.1111111111111111,
              "#46039f"
             ],
             [
              0.2222222222222222,
              "#7201a8"
             ],
             [
              0.3333333333333333,
              "#9c179e"
             ],
             [
              0.4444444444444444,
              "#bd3786"
             ],
             [
              0.5555555555555556,
              "#d8576b"
             ],
             [
              0.6666666666666666,
              "#ed7953"
             ],
             [
              0.7777777777777778,
              "#fb9f3a"
             ],
             [
              0.8888888888888888,
              "#fdca26"
             ],
             [
              1,
              "#f0f921"
             ]
            ],
            "type": "histogram2dcontour"
           }
          ],
          "mesh3d": [
           {
            "colorbar": {
             "outlinewidth": 0,
             "ticks": ""
            },
            "type": "mesh3d"
           }
          ],
          "parcoords": [
           {
            "line": {
             "colorbar": {
              "outlinewidth": 0,
              "ticks": ""
             }
            },
            "type": "parcoords"
           }
          ],
          "pie": [
           {
            "automargin": true,
            "type": "pie"
           }
          ],
          "scatter": [
           {
            "fillpattern": {
             "fillmode": "overlay",
             "size": 10,
             "solidity": 0.2
            },
            "type": "scatter"
           }
          ],
          "scatter3d": [
           {
            "line": {
             "colorbar": {
              "outlinewidth": 0,
              "ticks": ""
             }
            },
            "marker": {
             "colorbar": {
              "outlinewidth": 0,
              "ticks": ""
             }
            },
            "type": "scatter3d"
           }
          ],
          "scattercarpet": [
           {
            "marker": {
             "colorbar": {
              "outlinewidth": 0,
              "ticks": ""
             }
            },
            "type": "scattercarpet"
           }
          ],
          "scattergeo": [
           {
            "marker": {
             "colorbar": {
              "outlinewidth": 0,
              "ticks": ""
             }
            },
            "type": "scattergeo"
           }
          ],
          "scattergl": [
           {
            "marker": {
             "colorbar": {
              "outlinewidth": 0,
              "ticks": ""
             }
            },
            "type": "scattergl"
           }
          ],
          "scattermapbox": [
           {
            "marker": {
             "colorbar": {
              "outlinewidth": 0,
              "ticks": ""
             }
            },
            "type": "scattermapbox"
           }
          ],
          "scatterpolar": [
           {
            "marker": {
             "colorbar": {
              "outlinewidth": 0,
              "ticks": ""
             }
            },
            "type": "scatterpolar"
           }
          ],
          "scatterpolargl": [
           {
            "marker": {
             "colorbar": {
              "outlinewidth": 0,
              "ticks": ""
             }
            },
            "type": "scatterpolargl"
           }
          ],
          "scatterternary": [
           {
            "marker": {
             "colorbar": {
              "outlinewidth": 0,
              "ticks": ""
             }
            },
            "type": "scatterternary"
           }
          ],
          "surface": [
           {
            "colorbar": {
             "outlinewidth": 0,
             "ticks": ""
            },
            "colorscale": [
             [
              0,
              "#0d0887"
             ],
             [
              0.1111111111111111,
              "#46039f"
             ],
             [
              0.2222222222222222,
              "#7201a8"
             ],
             [
              0.3333333333333333,
              "#9c179e"
             ],
             [
              0.4444444444444444,
              "#bd3786"
             ],
             [
              0.5555555555555556,
              "#d8576b"
             ],
             [
              0.6666666666666666,
              "#ed7953"
             ],
             [
              0.7777777777777778,
              "#fb9f3a"
             ],
             [
              0.8888888888888888,
              "#fdca26"
             ],
             [
              1,
              "#f0f921"
             ]
            ],
            "type": "surface"
           }
          ],
          "table": [
           {
            "cells": {
             "fill": {
              "color": "#EBF0F8"
             },
             "line": {
              "color": "white"
             }
            },
            "header": {
             "fill": {
              "color": "#C8D4E3"
             },
             "line": {
              "color": "white"
             }
            },
            "type": "table"
           }
          ]
         },
         "layout": {
          "annotationdefaults": {
           "arrowcolor": "#2a3f5f",
           "arrowhead": 0,
           "arrowwidth": 1
          },
          "autotypenumbers": "strict",
          "coloraxis": {
           "colorbar": {
            "outlinewidth": 0,
            "ticks": ""
           }
          },
          "colorscale": {
           "diverging": [
            [
             0,
             "#8e0152"
            ],
            [
             0.1,
             "#c51b7d"
            ],
            [
             0.2,
             "#de77ae"
            ],
            [
             0.3,
             "#f1b6da"
            ],
            [
             0.4,
             "#fde0ef"
            ],
            [
             0.5,
             "#f7f7f7"
            ],
            [
             0.6,
             "#e6f5d0"
            ],
            [
             0.7,
             "#b8e186"
            ],
            [
             0.8,
             "#7fbc41"
            ],
            [
             0.9,
             "#4d9221"
            ],
            [
             1,
             "#276419"
            ]
           ],
           "sequential": [
            [
             0,
             "#0d0887"
            ],
            [
             0.1111111111111111,
             "#46039f"
            ],
            [
             0.2222222222222222,
             "#7201a8"
            ],
            [
             0.3333333333333333,
             "#9c179e"
            ],
            [
             0.4444444444444444,
             "#bd3786"
            ],
            [
             0.5555555555555556,
             "#d8576b"
            ],
            [
             0.6666666666666666,
             "#ed7953"
            ],
            [
             0.7777777777777778,
             "#fb9f3a"
            ],
            [
             0.8888888888888888,
             "#fdca26"
            ],
            [
             1,
             "#f0f921"
            ]
           ],
           "sequentialminus": [
            [
             0,
             "#0d0887"
            ],
            [
             0.1111111111111111,
             "#46039f"
            ],
            [
             0.2222222222222222,
             "#7201a8"
            ],
            [
             0.3333333333333333,
             "#9c179e"
            ],
            [
             0.4444444444444444,
             "#bd3786"
            ],
            [
             0.5555555555555556,
             "#d8576b"
            ],
            [
             0.6666666666666666,
             "#ed7953"
            ],
            [
             0.7777777777777778,
             "#fb9f3a"
            ],
            [
             0.8888888888888888,
             "#fdca26"
            ],
            [
             1,
             "#f0f921"
            ]
           ]
          },
          "colorway": [
           "#636efa",
           "#EF553B",
           "#00cc96",
           "#ab63fa",
           "#FFA15A",
           "#19d3f3",
           "#FF6692",
           "#B6E880",
           "#FF97FF",
           "#FECB52"
          ],
          "font": {
           "color": "#2a3f5f"
          },
          "geo": {
           "bgcolor": "white",
           "lakecolor": "white",
           "landcolor": "#E5ECF6",
           "showlakes": true,
           "showland": true,
           "subunitcolor": "white"
          },
          "hoverlabel": {
           "align": "left"
          },
          "hovermode": "closest",
          "mapbox": {
           "style": "light"
          },
          "paper_bgcolor": "white",
          "plot_bgcolor": "#E5ECF6",
          "polar": {
           "angularaxis": {
            "gridcolor": "white",
            "linecolor": "white",
            "ticks": ""
           },
           "bgcolor": "#E5ECF6",
           "radialaxis": {
            "gridcolor": "white",
            "linecolor": "white",
            "ticks": ""
           }
          },
          "scene": {
           "xaxis": {
            "backgroundcolor": "#E5ECF6",
            "gridcolor": "white",
            "gridwidth": 2,
            "linecolor": "white",
            "showbackground": true,
            "ticks": "",
            "zerolinecolor": "white"
           },
           "yaxis": {
            "backgroundcolor": "#E5ECF6",
            "gridcolor": "white",
            "gridwidth": 2,
            "linecolor": "white",
            "showbackground": true,
            "ticks": "",
            "zerolinecolor": "white"
           },
           "zaxis": {
            "backgroundcolor": "#E5ECF6",
            "gridcolor": "white",
            "gridwidth": 2,
            "linecolor": "white",
            "showbackground": true,
            "ticks": "",
            "zerolinecolor": "white"
           }
          },
          "shapedefaults": {
           "line": {
            "color": "#2a3f5f"
           }
          },
          "ternary": {
           "aaxis": {
            "gridcolor": "white",
            "linecolor": "white",
            "ticks": ""
           },
           "baxis": {
            "gridcolor": "white",
            "linecolor": "white",
            "ticks": ""
           },
           "bgcolor": "#E5ECF6",
           "caxis": {
            "gridcolor": "white",
            "linecolor": "white",
            "ticks": ""
           }
          },
          "title": {
           "x": 0.05
          },
          "xaxis": {
           "automargin": true,
           "gridcolor": "white",
           "linecolor": "white",
           "ticks": "",
           "title": {
            "standoff": 15
           },
           "zerolinecolor": "white",
           "zerolinewidth": 2
          },
          "yaxis": {
           "automargin": true,
           "gridcolor": "white",
           "linecolor": "white",
           "ticks": "",
           "title": {
            "standoff": 15
           },
           "zerolinecolor": "white",
           "zerolinewidth": 2
          }
         }
        },
        "xaxis": {
         "anchor": "y",
         "domain": [
          0,
          1
         ],
         "title": {
          "text": "Year"
         }
        },
        "yaxis": {
         "anchor": "x",
         "domain": [
          0,
          1
         ],
         "title": {
          "text": "count"
         }
        }
       }
      },
      "text/html": [
       "<div>                            <div id=\"a248d12a-d546-421b-945c-f511fa3752c7\" class=\"plotly-graph-div\" style=\"height:525px; width:100%;\"></div>            <script type=\"text/javascript\">                require([\"plotly\"], function(Plotly) {                    window.PLOTLYENV=window.PLOTLYENV || {};                                    if (document.getElementById(\"a248d12a-d546-421b-945c-f511fa3752c7\")) {                    Plotly.newPlot(                        \"a248d12a-d546-421b-945c-f511fa3752c7\",                        [{\"alignmentgroup\":\"True\",\"bingroup\":\"x\",\"hovertemplate\":\"Year=%{x}<br>count=%{y}<extra></extra>\",\"legendgroup\":\"\",\"marker\":{\"color\":\"#636efa\",\"pattern\":{\"shape\":\"\"}},\"name\":\"\",\"offsetgroup\":\"\",\"orientation\":\"v\",\"showlegend\":false,\"x\":[2015,2014,2013,2012,2011,2011,2011,2011,2010,2010,2010,2010,2010,2009,2008,2008,2008,2008,2008,2008,2008,2008,2008,2008,2008,2007,2006,2006,2006,2006,2006,2006,2006,2006,2005,2005,2005,2005,2005,2005,2005,2005,2005,2005,2004,2004,2003,2002,2002,2002,2002,2002,2001,2001,2000,2000,2000,2000,2000,2000,2000,1999,1999,1999,1997,1997,1981,1978],\"xaxis\":\"x\",\"yaxis\":\"y\",\"type\":\"histogram\"}],                        {\"template\":{\"data\":{\"histogram2dcontour\":[{\"type\":\"histogram2dcontour\",\"colorbar\":{\"outlinewidth\":0,\"ticks\":\"\"},\"colorscale\":[[0.0,\"#0d0887\"],[0.1111111111111111,\"#46039f\"],[0.2222222222222222,\"#7201a8\"],[0.3333333333333333,\"#9c179e\"],[0.4444444444444444,\"#bd3786\"],[0.5555555555555556,\"#d8576b\"],[0.6666666666666666,\"#ed7953\"],[0.7777777777777778,\"#fb9f3a\"],[0.8888888888888888,\"#fdca26\"],[1.0,\"#f0f921\"]]}],\"choropleth\":[{\"type\":\"choropleth\",\"colorbar\":{\"outlinewidth\":0,\"ticks\":\"\"}}],\"histogram2d\":[{\"type\":\"histogram2d\",\"colorbar\":{\"outlinewidth\":0,\"ticks\":\"\"},\"colorscale\":[[0.0,\"#0d0887\"],[0.1111111111111111,\"#46039f\"],[0.2222222222222222,\"#7201a8\"],[0.3333333333333333,\"#9c179e\"],[0.4444444444444444,\"#bd3786\"],[0.5555555555555556,\"#d8576b\"],[0.6666666666666666,\"#ed7953\"],[0.7777777777777778,\"#fb9f3a\"],[0.8888888888888888,\"#fdca26\"],[1.0,\"#f0f921\"]]}],\"heatmap\":[{\"type\":\"heatmap\",\"colorbar\":{\"outlinewidth\":0,\"ticks\":\"\"},\"colorscale\":[[0.0,\"#0d0887\"],[0.1111111111111111,\"#46039f\"],[0.2222222222222222,\"#7201a8\"],[0.3333333333333333,\"#9c179e\"],[0.4444444444444444,\"#bd3786\"],[0.5555555555555556,\"#d8576b\"],[0.6666666666666666,\"#ed7953\"],[0.7777777777777778,\"#fb9f3a\"],[0.8888888888888888,\"#fdca26\"],[1.0,\"#f0f921\"]]}],\"heatmapgl\":[{\"type\":\"heatmapgl\",\"colorbar\":{\"outlinewidth\":0,\"ticks\":\"\"},\"colorscale\":[[0.0,\"#0d0887\"],[0.1111111111111111,\"#46039f\"],[0.2222222222222222,\"#7201a8\"],[0.3333333333333333,\"#9c179e\"],[0.4444444444444444,\"#bd3786\"],[0.5555555555555556,\"#d8576b\"],[0.6666666666666666,\"#ed7953\"],[0.7777777777777778,\"#fb9f3a\"],[0.8888888888888888,\"#fdca26\"],[1.0,\"#f0f921\"]]}],\"contourcarpet\":[{\"type\":\"contourcarpet\",\"colorbar\":{\"outlinewidth\":0,\"ticks\":\"\"}}],\"contour\":[{\"type\":\"contour\",\"colorbar\":{\"outlinewidth\":0,\"ticks\":\"\"},\"colorscale\":[[0.0,\"#0d0887\"],[0.1111111111111111,\"#46039f\"],[0.2222222222222222,\"#7201a8\"],[0.3333333333333333,\"#9c179e\"],[0.4444444444444444,\"#bd3786\"],[0.5555555555555556,\"#d8576b\"],[0.6666666666666666,\"#ed7953\"],[0.7777777777777778,\"#fb9f3a\"],[0.8888888888888888,\"#fdca26\"],[1.0,\"#f0f921\"]]}],\"surface\":[{\"type\":\"surface\",\"colorbar\":{\"outlinewidth\":0,\"ticks\":\"\"},\"colorscale\":[[0.0,\"#0d0887\"],[0.1111111111111111,\"#46039f\"],[0.2222222222222222,\"#7201a8\"],[0.3333333333333333,\"#9c179e\"],[0.4444444444444444,\"#bd3786\"],[0.5555555555555556,\"#d8576b\"],[0.6666666666666666,\"#ed7953\"],[0.7777777777777778,\"#fb9f3a\"],[0.8888888888888888,\"#fdca26\"],[1.0,\"#f0f921\"]]}],\"mesh3d\":[{\"type\":\"mesh3d\",\"colorbar\":{\"outlinewidth\":0,\"ticks\":\"\"}}],\"scatter\":[{\"fillpattern\":{\"fillmode\":\"overlay\",\"size\":10,\"solidity\":0.2},\"type\":\"scatter\"}],\"parcoords\":[{\"type\":\"parcoords\",\"line\":{\"colorbar\":{\"outlinewidth\":0,\"ticks\":\"\"}}}],\"scatterpolargl\":[{\"type\":\"scatterpolargl\",\"marker\":{\"colorbar\":{\"outlinewidth\":0,\"ticks\":\"\"}}}],\"bar\":[{\"error_x\":{\"color\":\"#2a3f5f\"},\"error_y\":{\"color\":\"#2a3f5f\"},\"marker\":{\"line\":{\"color\":\"#E5ECF6\",\"width\":0.5},\"pattern\":{\"fillmode\":\"overlay\",\"size\":10,\"solidity\":0.2}},\"type\":\"bar\"}],\"scattergeo\":[{\"type\":\"scattergeo\",\"marker\":{\"colorbar\":{\"outlinewidth\":0,\"ticks\":\"\"}}}],\"scatterpolar\":[{\"type\":\"scatterpolar\",\"marker\":{\"colorbar\":{\"outlinewidth\":0,\"ticks\":\"\"}}}],\"histogram\":[{\"marker\":{\"pattern\":{\"fillmode\":\"overlay\",\"size\":10,\"solidity\":0.2}},\"type\":\"histogram\"}],\"scattergl\":[{\"type\":\"scattergl\",\"marker\":{\"colorbar\":{\"outlinewidth\":0,\"ticks\":\"\"}}}],\"scatter3d\":[{\"type\":\"scatter3d\",\"line\":{\"colorbar\":{\"outlinewidth\":0,\"ticks\":\"\"}},\"marker\":{\"colorbar\":{\"outlinewidth\":0,\"ticks\":\"\"}}}],\"scattermapbox\":[{\"type\":\"scattermapbox\",\"marker\":{\"colorbar\":{\"outlinewidth\":0,\"ticks\":\"\"}}}],\"scatterternary\":[{\"type\":\"scatterternary\",\"marker\":{\"colorbar\":{\"outlinewidth\":0,\"ticks\":\"\"}}}],\"scattercarpet\":[{\"type\":\"scattercarpet\",\"marker\":{\"colorbar\":{\"outlinewidth\":0,\"ticks\":\"\"}}}],\"carpet\":[{\"aaxis\":{\"endlinecolor\":\"#2a3f5f\",\"gridcolor\":\"white\",\"linecolor\":\"white\",\"minorgridcolor\":\"white\",\"startlinecolor\":\"#2a3f5f\"},\"baxis\":{\"endlinecolor\":\"#2a3f5f\",\"gridcolor\":\"white\",\"linecolor\":\"white\",\"minorgridcolor\":\"white\",\"startlinecolor\":\"#2a3f5f\"},\"type\":\"carpet\"}],\"table\":[{\"cells\":{\"fill\":{\"color\":\"#EBF0F8\"},\"line\":{\"color\":\"white\"}},\"header\":{\"fill\":{\"color\":\"#C8D4E3\"},\"line\":{\"color\":\"white\"}},\"type\":\"table\"}],\"barpolar\":[{\"marker\":{\"line\":{\"color\":\"#E5ECF6\",\"width\":0.5},\"pattern\":{\"fillmode\":\"overlay\",\"size\":10,\"solidity\":0.2}},\"type\":\"barpolar\"}],\"pie\":[{\"automargin\":true,\"type\":\"pie\"}]},\"layout\":{\"autotypenumbers\":\"strict\",\"colorway\":[\"#636efa\",\"#EF553B\",\"#00cc96\",\"#ab63fa\",\"#FFA15A\",\"#19d3f3\",\"#FF6692\",\"#B6E880\",\"#FF97FF\",\"#FECB52\"],\"font\":{\"color\":\"#2a3f5f\"},\"hovermode\":\"closest\",\"hoverlabel\":{\"align\":\"left\"},\"paper_bgcolor\":\"white\",\"plot_bgcolor\":\"#E5ECF6\",\"polar\":{\"bgcolor\":\"#E5ECF6\",\"angularaxis\":{\"gridcolor\":\"white\",\"linecolor\":\"white\",\"ticks\":\"\"},\"radialaxis\":{\"gridcolor\":\"white\",\"linecolor\":\"white\",\"ticks\":\"\"}},\"ternary\":{\"bgcolor\":\"#E5ECF6\",\"aaxis\":{\"gridcolor\":\"white\",\"linecolor\":\"white\",\"ticks\":\"\"},\"baxis\":{\"gridcolor\":\"white\",\"linecolor\":\"white\",\"ticks\":\"\"},\"caxis\":{\"gridcolor\":\"white\",\"linecolor\":\"white\",\"ticks\":\"\"}},\"coloraxis\":{\"colorbar\":{\"outlinewidth\":0,\"ticks\":\"\"}},\"colorscale\":{\"sequential\":[[0.0,\"#0d0887\"],[0.1111111111111111,\"#46039f\"],[0.2222222222222222,\"#7201a8\"],[0.3333333333333333,\"#9c179e\"],[0.4444444444444444,\"#bd3786\"],[0.5555555555555556,\"#d8576b\"],[0.6666666666666666,\"#ed7953\"],[0.7777777777777778,\"#fb9f3a\"],[0.8888888888888888,\"#fdca26\"],[1.0,\"#f0f921\"]],\"sequentialminus\":[[0.0,\"#0d0887\"],[0.1111111111111111,\"#46039f\"],[0.2222222222222222,\"#7201a8\"],[0.3333333333333333,\"#9c179e\"],[0.4444444444444444,\"#bd3786\"],[0.5555555555555556,\"#d8576b\"],[0.6666666666666666,\"#ed7953\"],[0.7777777777777778,\"#fb9f3a\"],[0.8888888888888888,\"#fdca26\"],[1.0,\"#f0f921\"]],\"diverging\":[[0,\"#8e0152\"],[0.1,\"#c51b7d\"],[0.2,\"#de77ae\"],[0.3,\"#f1b6da\"],[0.4,\"#fde0ef\"],[0.5,\"#f7f7f7\"],[0.6,\"#e6f5d0\"],[0.7,\"#b8e186\"],[0.8,\"#7fbc41\"],[0.9,\"#4d9221\"],[1,\"#276419\"]]},\"xaxis\":{\"gridcolor\":\"white\",\"linecolor\":\"white\",\"ticks\":\"\",\"title\":{\"standoff\":15},\"zerolinecolor\":\"white\",\"automargin\":true,\"zerolinewidth\":2},\"yaxis\":{\"gridcolor\":\"white\",\"linecolor\":\"white\",\"ticks\":\"\",\"title\":{\"standoff\":15},\"zerolinecolor\":\"white\",\"automargin\":true,\"zerolinewidth\":2},\"scene\":{\"xaxis\":{\"backgroundcolor\":\"#E5ECF6\",\"gridcolor\":\"white\",\"linecolor\":\"white\",\"showbackground\":true,\"ticks\":\"\",\"zerolinecolor\":\"white\",\"gridwidth\":2},\"yaxis\":{\"backgroundcolor\":\"#E5ECF6\",\"gridcolor\":\"white\",\"linecolor\":\"white\",\"showbackground\":true,\"ticks\":\"\",\"zerolinecolor\":\"white\",\"gridwidth\":2},\"zaxis\":{\"backgroundcolor\":\"#E5ECF6\",\"gridcolor\":\"white\",\"linecolor\":\"white\",\"showbackground\":true,\"ticks\":\"\",\"zerolinecolor\":\"white\",\"gridwidth\":2}},\"shapedefaults\":{\"line\":{\"color\":\"#2a3f5f\"}},\"annotationdefaults\":{\"arrowcolor\":\"#2a3f5f\",\"arrowhead\":0,\"arrowwidth\":1},\"geo\":{\"bgcolor\":\"white\",\"landcolor\":\"#E5ECF6\",\"subunitcolor\":\"white\",\"showland\":true,\"showlakes\":true,\"lakecolor\":\"white\"},\"title\":{\"x\":0.05},\"mapbox\":{\"style\":\"light\"}}},\"xaxis\":{\"anchor\":\"y\",\"domain\":[0.0,1.0],\"title\":{\"text\":\"Year\"}},\"yaxis\":{\"anchor\":\"x\",\"domain\":[0.0,1.0],\"title\":{\"text\":\"count\"}},\"legend\":{\"tracegroupgap\":0},\"margin\":{\"t\":60},\"barmode\":\"relative\"},                        {\"responsive\": true}                    ).then(function(){\n",
       "                            \n",
       "var gd = document.getElementById('a248d12a-d546-421b-945c-f511fa3752c7');\n",
       "var x = new MutationObserver(function (mutations, observer) {{\n",
       "        var display = window.getComputedStyle(gd).display;\n",
       "        if (!display || display === 'none') {{\n",
       "            console.log([gd, 'removed!']);\n",
       "            Plotly.purge(gd);\n",
       "            observer.disconnect();\n",
       "        }}\n",
       "}});\n",
       "\n",
       "// Listen for the removal of the full notebook cells\n",
       "var notebookContainer = gd.closest('#notebook-container');\n",
       "if (notebookContainer) {{\n",
       "    x.observe(notebookContainer, {childList: true});\n",
       "}}\n",
       "\n",
       "// Listen for the clearing of the current output cell\n",
       "var outputEl = gd.closest('.output');\n",
       "if (outputEl) {{\n",
       "    x.observe(outputEl, {childList: true});\n",
       "}}\n",
       "\n",
       "                        })                };                });            </script>        </div>"
      ]
     },
     "metadata": {},
     "output_type": "display_data"
    }
   ],
   "source": [
    "import plotly.express as px\n",
    "fig = px.histogram(df, x=\"Year\")\n",
    "fig.show()"
   ]
  },
  {
   "cell_type": "markdown",
   "metadata": {
    "id": "2zjvbtLbN-Ja"
   },
   "source": [
    "**4. IS THERE INCREASE IN HIGH MAGNITUDE EARTHQUAKES AS WELL?**"
   ]
  },
  {
   "cell_type": "code",
   "execution_count": 60,
   "metadata": {
    "id": "J-6FANWOOKN5"
   },
   "outputs": [],
   "source": [
    "df_low = df.query('Mag < 7')\n",
    "df_high = df.query('Mag >= 7 and Mag <7.9')\n",
    "df_severe = df.query('Mag >= 7.9')"
   ]
  },
  {
   "cell_type": "code",
   "execution_count": 70,
   "metadata": {
    "colab": {
     "base_uri": "https://localhost:8080/",
     "height": 279
    },
    "id": "vC6PZx78OX8F",
    "outputId": "87fbf61f-631b-44ef-b3c2-dfb4a4585d31"
   },
   "outputs": [],
   "source": [
    "# importing package\n",
    "import matplotlib.pyplot as plt"
   ]
  },
  {
   "cell_type": "code",
   "execution_count": null,
   "metadata": {
    "colab": {
     "base_uri": "https://localhost:8080/",
     "height": 296
    },
    "id": "1UGZ4vTgOaiV",
    "outputId": "78e9c8dc-c6ac-4217-aaf9-760adb0ac275"
   },
   "outputs": [
    {
     "data": {
      "text/plain": [
       "<matplotlib.legend.Legend at 0x7f2962160490>"
      ]
     },
     "execution_count": 91,
     "metadata": {},
     "output_type": "execute_result"
    },
    {
     "data": {
      "image/png": "[encoded data removed]",
      "text/plain": [
       "<Figure size 432x288 with 1 Axes>"
      ]
     },
     "metadata": {
      "needs_background": "light"
     },
     "output_type": "display_data"
    }
   ],
   "source": [
    "# Plotting high and severe magnitude earthquakes\n",
    "plt.plot(Year, X2, color ='y')\n",
    "plt.plot(Year, X3, color = 'r')\n",
    "plt.xlabel('Year')\n",
    "plt.ylabel('Number of earthquakes')\n",
    "plt.legend(['Between 7-7.9','Greater than 7.9'])"
   ]
  },
  {
   "cell_type": "markdown",
   "metadata": {
    "id": "8_DFNihkOnDp"
   },
   "source": [
    "**5. WHERE DO HIGH MAGNITUDE EARTHQUAKE OCCURS?**\n"
   ]
  },
  {
   "cell_type": "code",
   "execution_count": null,
   "metadata": {
    "colab": {
     "base_uri": "https://localhost:8080/"
    },
    "id": "Woy8GFXdOi62",
    "outputId": "e0bd775c-7d79-4269-bbdb-c4fc1be5fe5c"
   },
   "outputs": [
    {
     "data": {
      "text/plain": [
       "ID    109\n",
       "JP     81\n",
       "VU     64\n",
       "TO     62\n",
       "PG     60\n",
       "     ... \n",
       "AG      1\n",
       "DO      1\n",
       "TF      1\n",
       "TJ      1\n",
       "HT      1\n",
       "Name: Country, Length: 76, dtype: int64"
      ]
     },
     "execution_count": 92,
     "metadata": {},
     "output_type": "execute_result"
    }
   ],
   "source": [
    "df_not_low = df.query('Magnitude >= 6.9')\n",
    "df_not_low['Country'].value_counts()"
   ]
  },
  {
   "cell_type": "markdown",
   "metadata": {
    "id": "s4GmQPcjO81n"
   },
   "source": [
    "**6. DEPTH OF AN EARTHQUAKE **"
   ]
  },
  {
   "cell_type": "code",
   "execution_count": 65,
   "metadata": {
    "colab": {
     "base_uri": "https://localhost:8080/"
    },
    "id": "0cO0Q0JkO0XN",
    "outputId": "e891dc20-0479-497e-99e6-67f14bdac71d"
   },
   "outputs": [
    {
     "data": {
      "text/plain": [
       "count     68.000000\n",
       "mean      26.695588\n",
       "std       29.985153\n",
       "min        0.000000\n",
       "25%       10.000000\n",
       "50%       20.000000\n",
       "75%       33.000000\n",
       "max      209.400000\n",
       "Name: Depth, dtype: float64"
      ]
     },
     "execution_count": 65,
     "metadata": {},
     "output_type": "execute_result"
    }
   ],
   "source": [
    "#DEPTH OF EARTHQUAKE AND ITS SIGNIFICANCE\n",
    "df.describe()['Depth']"
   ]
  },
  {
   "cell_type": "code",
   "execution_count": 68,
   "metadata": {
    "colab": {
     "base_uri": "https://localhost:8080/",
     "height": 312
    },
    "id": "ZqL3kadKPOLb",
    "outputId": "0c557a38-8f56-4998-9231-712efa906c5d"
   },
   "outputs": [
    {
     "data": {
      "text/plain": [
       "Text(0, 0.5, 'Number of earthquakes')"
      ]
     },
     "execution_count": 68,
     "metadata": {},
     "output_type": "execute_result"
    },
    {
     "data": {
      "image/png": "[encoded data removed]",
      "text/plain": [
       "<Figure size 640x480 with 1 Axes>"
      ]
     },
     "metadata": {},
     "output_type": "display_data"
    }
   ],
   "source": [
    "plt.hist(df['Depth'],bins = [x for x in range(0,701,70)])\n",
    "plt.title('Depth of an earthquake')\n",
    "plt.xlabel('Depth (Kms)')\n",
    "plt.ylabel('Number of earthquakes')"
   ]
  },
  {
   "cell_type": "markdown",
   "metadata": {
    "id": "q28xbmWhPWXF"
   },
   "source": [
    "**7. PLOTTING GEOSPATIAL DATA**"
   ]
  },
  {
   "cell_type": "code",
   "execution_count": 69,
   "metadata": {
    "colab": {
     "base_uri": "https://localhost:8080/"
    },
    "id": "oLWTBOg6Pbcp",
    "outputId": "222974a8-b356-4672-d347-7a3ecea4f1b8"
   },
   "outputs": [
    {
     "name": "stdout",
     "output_type": "stream",
     "text": [
      "Defaulting to user installation because normal site-packages is not writeable\n",
      "Collecting keplergl\n",
      "  Downloading keplergl-0.3.2.tar.gz (9.7 MB)\n",
      "     ---------------------------------------- 9.7/9.7 MB 1.3 MB/s eta 0:00:00\n",
      "  Installing build dependencies: started\n",
      "  Installing build dependencies: still running...\n",
      "  Installing build dependencies: still running...\n",
      "  Installing build dependencies: still running...\n",
      "  Installing build dependencies: still running...\n",
      "  Installing build dependencies: finished with status 'done'\n",
      "  Getting requirements to build wheel: started\n",
      "  Getting requirements to build wheel: finished with status 'done'\n",
      "  Preparing metadata (pyproject.toml): started\n",
      "  Preparing metadata (pyproject.toml): finished with status 'done'\n",
      "Collecting Shapely>=1.6.4.post2\n",
      "  Downloading shapely-2.0.1-cp310-cp310-win_amd64.whl (1.4 MB)\n",
      "     ---------------------------------------- 1.4/1.4 MB 221.4 kB/s eta 0:00:00\n",
      "Collecting traittypes>=0.2.1\n",
      "  Downloading traittypes-0.2.1-py2.py3-none-any.whl (8.6 kB)\n",
      "Collecting geopandas>=0.5.0\n",
      "  Downloading geopandas-0.13.2-py3-none-any.whl (1.1 MB)\n",
      "     ---------------------------------------- 1.1/1.1 MB 925.8 kB/s eta 0:00:00\n",
      "Requirement already satisfied: ipywidgets<8,>=7.0.0 in c:\\programdata\\anaconda3\\lib\\site-packages (from keplergl) (7.6.5)\n",
      "Requirement already satisfied: pandas>=0.23.0 in c:\\programdata\\anaconda3\\lib\\site-packages (from keplergl) (1.5.3)\n",
      "Requirement already satisfied: packaging in c:\\programdata\\anaconda3\\lib\\site-packages (from geopandas>=0.5.0->keplergl) (22.0)\n",
      "Collecting fiona>=1.8.19\n",
      "  Downloading Fiona-1.9.4.post1-cp310-cp310-win_amd64.whl (22.7 MB)\n",
      "     ----------------                         9.3/22.7 MB 12.0 kB/s eta 0:18:35\n",
      "Note: you may need to restart the kernel to use updated packages.\n"
     ]
    },
    {
     "name": "stderr",
     "output_type": "stream",
     "text": [
      "ERROR: Exception:\n",
      "Traceback (most recent call last):\n",
      "  File \"C:\\ProgramData\\anaconda3\\lib\\site-packages\\pip\\_vendor\\urllib3\\response.py\", line 437, in _error_catcher\n",
      "    yield\n",
      "  File \"C:\\ProgramData\\anaconda3\\lib\\site-packages\\pip\\_vendor\\urllib3\\response.py\", line 560, in read\n",
      "    data = self._fp_read(amt) if not fp_closed else b\"\"\n",
      "  File \"C:\\ProgramData\\anaconda3\\lib\\site-packages\\pip\\_vendor\\urllib3\\response.py\", line 526, in _fp_read\n",
      "    return self._fp.read(amt) if amt is not None else self._fp.read()\n",
      "  File \"C:\\ProgramData\\anaconda3\\lib\\site-packages\\pip\\_vendor\\cachecontrol\\filewrapper.py\", line 90, in read\n",
      "    data = self.__fp.read(amt)\n",
      "  File \"C:\\ProgramData\\anaconda3\\lib\\http\\client.py\", line 465, in read\n",
      "    s = self.fp.read(amt)\n",
      "  File \"C:\\ProgramData\\anaconda3\\lib\\socket.py\", line 705, in readinto\n",
      "    return self._sock.recv_into(b)\n",
      "  File \"C:\\ProgramData\\anaconda3\\lib\\ssl.py\", line 1274, in recv_into\n",
      "    return self.read(nbytes, buffer)\n",
      "  File \"C:\\ProgramData\\anaconda3\\lib\\ssl.py\", line 1130, in read\n",
      "    return self._sslobj.read(len, buffer)\n",
      "TimeoutError: The read operation timed out\n",
      "\n",
      "During handling of the above exception, another exception occurred:\n",
      "\n",
      "Traceback (most recent call last):\n",
      "  File \"C:\\ProgramData\\anaconda3\\lib\\site-packages\\pip\\_internal\\cli\\base_command.py\", line 160, in exc_logging_wrapper\n",
      "    status = run_func(*args)\n",
      "  File \"C:\\ProgramData\\anaconda3\\lib\\site-packages\\pip\\_internal\\cli\\req_command.py\", line 247, in wrapper\n",
      "    return func(self, options, args)\n",
      "  File \"C:\\ProgramData\\anaconda3\\lib\\site-packages\\pip\\_internal\\commands\\install.py\", line 400, in run\n",
      "    requirement_set = resolver.resolve(\n",
      "  File \"C:\\ProgramData\\anaconda3\\lib\\site-packages\\pip\\_internal\\resolution\\resolvelib\\resolver.py\", line 92, in resolve\n",
      "    result = self._result = resolver.resolve(\n",
      "  File \"C:\\ProgramData\\anaconda3\\lib\\site-packages\\pip\\_vendor\\resolvelib\\resolvers.py\", line 481, in resolve\n",
      "    state = resolution.resolve(requirements, max_rounds=max_rounds)\n",
      "  File \"C:\\ProgramData\\anaconda3\\lib\\site-packages\\pip\\_vendor\\resolvelib\\resolvers.py\", line 373, in resolve\n",
      "    failure_causes = self._attempt_to_pin_criterion(name)\n",
      "  File \"C:\\ProgramData\\anaconda3\\lib\\site-packages\\pip\\_vendor\\resolvelib\\resolvers.py\", line 213, in _attempt_to_pin_criterion\n",
      "    criteria = self._get_updated_criteria(candidate)\n",
      "  File \"C:\\ProgramData\\anaconda3\\lib\\site-packages\\pip\\_vendor\\resolvelib\\resolvers.py\", line 204, in _get_updated_criteria\n",
      "    self._add_to_criteria(criteria, requirement, parent=candidate)\n",
      "  File \"C:\\ProgramData\\anaconda3\\lib\\site-packages\\pip\\_vendor\\resolvelib\\resolvers.py\", line 172, in _add_to_criteria\n",
      "    if not criterion.candidates:\n",
      "  File \"C:\\ProgramData\\anaconda3\\lib\\site-packages\\pip\\_vendor\\resolvelib\\structs.py\", line 151, in __bool__\n",
      "    return bool(self._sequence)\n",
      "  File \"C:\\ProgramData\\anaconda3\\lib\\site-packages\\pip\\_internal\\resolution\\resolvelib\\found_candidates.py\", line 155, in __bool__\n",
      "    return any(self)\n",
      "  File \"C:\\ProgramData\\anaconda3\\lib\\site-packages\\pip\\_internal\\resolution\\resolvelib\\found_candidates.py\", line 143, in <genexpr>\n",
      "    return (c for c in iterator if id(c) not in self._incompatible_ids)\n",
      "  File \"C:\\ProgramData\\anaconda3\\lib\\site-packages\\pip\\_internal\\resolution\\resolvelib\\found_candidates.py\", line 47, in _iter_built\n",
      "    candidate = func()\n",
      "  File \"C:\\ProgramData\\anaconda3\\lib\\site-packages\\pip\\_internal\\resolution\\resolvelib\\factory.py\", line 206, in _make_candidate_from_link\n",
      "    self._link_candidate_cache[link] = LinkCandidate(\n",
      "  File \"C:\\ProgramData\\anaconda3\\lib\\site-packages\\pip\\_internal\\resolution\\resolvelib\\candidates.py\", line 297, in __init__\n",
      "    super().__init__(\n",
      "  File \"C:\\ProgramData\\anaconda3\\lib\\site-packages\\pip\\_internal\\resolution\\resolvelib\\candidates.py\", line 162, in __init__\n",
      "    self.dist = self._prepare()\n",
      "  File \"C:\\ProgramData\\anaconda3\\lib\\site-packages\\pip\\_internal\\resolution\\resolvelib\\candidates.py\", line 231, in _prepare\n",
      "    dist = self._prepare_distribution()\n",
      "  File \"C:\\ProgramData\\anaconda3\\lib\\site-packages\\pip\\_internal\\resolution\\resolvelib\\candidates.py\", line 308, in _prepare_distribution\n",
      "    return preparer.prepare_linked_requirement(self._ireq, parallel_builds=True)\n",
      "  File \"C:\\ProgramData\\anaconda3\\lib\\site-packages\\pip\\_internal\\operations\\prepare.py\", line 491, in prepare_linked_requirement\n",
      "    return self._prepare_linked_requirement(req, parallel_builds)\n",
      "  File \"C:\\ProgramData\\anaconda3\\lib\\site-packages\\pip\\_internal\\operations\\prepare.py\", line 536, in _prepare_linked_requirement\n",
      "    local_file = unpack_url(\n",
      "  File \"C:\\ProgramData\\anaconda3\\lib\\site-packages\\pip\\_internal\\operations\\prepare.py\", line 166, in unpack_url\n",
      "    file = get_http_url(\n",
      "  File \"C:\\ProgramData\\anaconda3\\lib\\site-packages\\pip\\_internal\\operations\\prepare.py\", line 107, in get_http_url\n",
      "    from_path, content_type = download(link, temp_dir.path)\n",
      "  File \"C:\\ProgramData\\anaconda3\\lib\\site-packages\\pip\\_internal\\network\\download.py\", line 147, in __call__\n",
      "    for chunk in chunks:\n",
      "  File \"C:\\ProgramData\\anaconda3\\lib\\site-packages\\pip\\_internal\\cli\\progress_bars.py\", line 53, in _rich_progress_bar\n",
      "    for chunk in iterable:\n",
      "  File \"C:\\ProgramData\\anaconda3\\lib\\site-packages\\pip\\_internal\\network\\utils.py\", line 63, in response_chunks\n",
      "    for chunk in response.raw.stream(\n",
      "  File \"C:\\ProgramData\\anaconda3\\lib\\site-packages\\pip\\_vendor\\urllib3\\response.py\", line 621, in stream\n",
      "    data = self.read(amt=amt, decode_content=decode_content)\n",
      "  File \"C:\\ProgramData\\anaconda3\\lib\\site-packages\\pip\\_vendor\\urllib3\\response.py\", line 559, in read\n",
      "    with self._error_catcher():\n",
      "  File \"C:\\ProgramData\\anaconda3\\lib\\contextlib.py\", line 153, in __exit__\n",
      "    self.gen.throw(typ, value, traceback)\n",
      "  File \"C:\\ProgramData\\anaconda3\\lib\\site-packages\\pip\\_vendor\\urllib3\\response.py\", line 442, in _error_catcher\n",
      "    raise ReadTimeoutError(self._pool, None, \"Read timed out.\")\n",
      "pip._vendor.urllib3.exceptions.ReadTimeoutError: HTTPSConnectionPool(host='files.pythonhosted.org', port=443): Read timed out.\n"
     ]
    }
   ],
   "source": [
    "pip install keplergl"
   ]
  },
  {
   "cell_type": "code",
   "execution_count": null,
   "metadata": {
    "id": "dDf89SSGPd1g"
   },
   "outputs": [],
   "source": [
    "from google.colab import output\n",
    "output.enable_custom_widget_manager()"
   ]
  },
  {
   "cell_type": "code",
   "execution_count": null,
   "metadata": {
    "colab": {
     "base_uri": "https://localhost:8080/",
     "height": 34
    },
    "id": "jBXMSClKPirf",
    "outputId": "7b911509-b194-463f-b68c-42a9c0a8933f"
   },
   "outputs": [
    {
     "name": "stdout",
     "output_type": "stream",
     "text": [
      "User Guide: https://docs.kepler.gl/docs/keplergl-jupyter\n"
     ]
    }
   ],
   "source": [
    "from keplergl import KeplerGl\n",
    "map_1 = KeplerGl(height = 600)\n",
    "map_1.add_data(data=df, name = 'Earthquakes Visualization')"
   ]
  },
  {
   "cell_type": "code",
   "execution_count": null,
   "metadata": {
    "id": "AZRzWB4p3faH"
   },
   "outputs": [],
   "source": [
    "map_1"
   ]
  },
  {
   "cell_type": "code",
   "execution_count": null,
   "metadata": {
    "id": "9fc5LafJPm63"
   },
   "outputs": [],
   "source": [
    "# In order to save it to html, we need to change datatype back to string format\n",
    "df['DateTime'] = df['DateTime'].astype(str)"
   ]
  },
  {
   "cell_type": "code",
   "execution_count": null,
   "metadata": {
    "id": "huEzeA9GP5Un"
   },
   "outputs": [],
   "source": [
    "map_1.save_to_html(file_name= 'Heatmap_Earthquakes.html')"
   ]
  }
 ],
 "metadata": {
  "colab": {
   "collapsed_sections": [],
   "name": "Earthquake Data and Analysis in Python",
   "provenance": []
  },
  "kernelspec": {
   "display_name": "Python 3 (ipykernel)",
   "language": "python",
   "name": "python3"
  },
  "language_info": {
   "codemirror_mode": {
    "name": "ipython",
    "version": 3
   },
   "file_extension": ".py",
   "mimetype": "text/x-python",
   "name": "python",
   "nbconvert_exporter": "python",
   "pygments_lexer": "ipython3",
   "version": "3.10.9"
  }
 },
 "nbformat": 4,
 "nbformat_minor": 1
}
